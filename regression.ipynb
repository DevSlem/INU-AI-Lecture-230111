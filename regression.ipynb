{
 "cells": [
  {
   "cell_type": "markdown",
   "id": "d073fc96",
   "metadata": {},
   "source": [
    "## Python 및 간단한 행렬 익히기"
   ]
  },
  {
   "attachments": {},
   "cell_type": "markdown",
   "id": "d9cd4272",
   "metadata": {},
   "source": [
    "### Python 기초 이해"
   ]
  },
  {
   "cell_type": "code",
   "execution_count": null,
   "id": "c9a13a2c",
   "metadata": {},
   "outputs": [],
   "source": [
    "a=3\n",
    "b=2\n",
    "# print란? python에서의 기본 출력을 담당하는 함수 \n",
    "print(a-b)"
   ]
  },
  {
   "cell_type": "code",
   "execution_count": null,
   "id": "1a3b19c8",
   "metadata": {},
   "outputs": [],
   "source": [
    "a=3\n",
    "b=2\n",
    "\n",
    "# 사칙 연산\n",
    "print(a + b)\n",
    "print(a - b) # 빼기\n",
    "print(a * b) # 곱하기\n",
    "print(a / b) # 나누기"
   ]
  },
  {
   "cell_type": "code",
   "execution_count": null,
   "id": "b436d594",
   "metadata": {},
   "outputs": [],
   "source": [
    "# 비교 연산\n",
    "print(a > b) # 크다\n",
    "print(a < b) # 작다\n",
    "print(a >= b) # 크거나 같다\n",
    "print(a <= b) # 작거나 같다\n",
    "print(a == b) # 같다\n",
    "print(a != b) # 다르다"
   ]
  },
  {
   "cell_type": "code",
   "execution_count": null,
   "id": "6e351aef",
   "metadata": {},
   "outputs": [],
   "source": [
    "# Python에서 많이 쓰는 list 자료형,  집합,  배열등\n",
    "a=[1, 2, 3]\n",
    "print(a)\n",
    "# 변수 a의 자료형은?\n",
    "print(type(a))\n",
    "# 첫번째 요소 출력\n",
    "print(a[0])\n",
    "# list의 길이 출력\n",
    "print(len(a))"
   ]
  },
  {
   "attachments": {},
   "cell_type": "markdown",
   "id": "1ab738b1",
   "metadata": {},
   "source": [
    "### Numpy"
   ]
  },
  {
   "cell_type": "code",
   "execution_count": null,
   "id": "4a546ae6",
   "metadata": {},
   "outputs": [],
   "source": [
    "# Numpy로 1차원 행렬 정의\n",
    "import numpy as np\n",
    "a=np.array([1,2,3])\n",
    "print(a)\n",
    "print(a[0])"
   ]
  },
  {
   "cell_type": "code",
   "execution_count": null,
   "id": "aeab001b",
   "metadata": {},
   "outputs": [],
   "source": [
    "# 간단한 2차원 행렬 정의 np.array\n",
    "import numpy as np\n",
    "a=np.array([[1, 2, 3], [4, 5, 6], [7,8,9]])\n",
    "# 행렬 출력 \n",
    "print(a)\n",
    "# 행렬의 크기\n",
    "print(a.shape)"
   ]
  },
  {
   "cell_type": "code",
   "execution_count": null,
   "id": "bbbb5dc2",
   "metadata": {},
   "outputs": [],
   "source": [
    "# 행렬의 원소 접근 (indexing)\n",
    "print(a[1,2])\n",
    "print(a[0,1])\n"
   ]
  },
  {
   "attachments": {},
   "cell_type": "markdown",
   "id": "8b32ac35",
   "metadata": {},
   "source": [
    "#### 연습!\n",
    "\n",
    "아래와 같은 2행 3열의 행렬 $a$를 만들고 주석에 달려있는 사항들을 출력해보자.\n",
    "\n",
    "$$\n",
    "a = \n",
    "\\begin{bmatrix}\n",
    "    0 & 1 & 2 \\\\\n",
    "    3 & 4 & 5\n",
    "\\end{bmatrix}\n",
    "$$"
   ]
  },
  {
   "cell_type": "code",
   "execution_count": null,
   "id": "6fda6986",
   "metadata": {},
   "outputs": [],
   "source": [
    "import numpy as np\n",
    "\n",
    "a = np.array() # 행렬 정의\n",
    "print() # 자료형 출력\n",
    "print() # 행렬 출력\n",
    "print() # 첫 번째행 두 번째열에 대응하는 원소 출력\n",
    "print() # 행렬 크기 출력"
   ]
  },
  {
   "cell_type": "markdown",
   "id": "1d921725",
   "metadata": {},
   "source": [
    "### 그래프 그리기 ### "
   ]
  },
  {
   "cell_type": "code",
   "execution_count": null,
   "id": "fd8d73c4",
   "metadata": {
    "scrolled": true
   },
   "outputs": [],
   "source": [
    "import matplotlib.pyplot as plt\n",
    "x = [1, 2, 3, 4] \n",
    "y = [2, 4, 6, 8] \n",
    "plt.plot(x, y, '-o')"
   ]
  },
  {
   "cell_type": "code",
   "execution_count": null,
   "id": "81c01888",
   "metadata": {},
   "outputs": [],
   "source": [
    "import matplotlib.pyplot as plt\n",
    "import numpy as np\n",
    "x=np.linspace(0, 10,200)\n",
    "y=np.sin(x)\n",
    "plt.plot(x, y, '-r')"
   ]
  },
  {
   "cell_type": "code",
   "execution_count": null,
   "id": "600718bd",
   "metadata": {},
   "outputs": [],
   "source": [
    "import matplotlib.pyplot as plt\n",
    "import numpy as np\n",
    "x=np.linspace(0, 10,200)\n",
    "y=np.sin(x)\n",
    "plt.plot(x, y, '-r')\n",
    "plt.xlabel('x axis')\n",
    "plt.ylabel('y axis')"
   ]
  },
  {
   "attachments": {},
   "cell_type": "markdown",
   "id": "83ddba42",
   "metadata": {},
   "source": [
    "#### 연습!\n",
    "\n",
    "$y = x^2$의 그래프를 그리자! \n",
    "\n",
    "$x$를 0에서 10까지 등간격으로 총 200개를 샘플링해서 그린다. 그래프 색깔은 초록색 `'g'`를 사용하자."
   ]
  },
  {
   "cell_type": "code",
   "execution_count": null,
   "id": "34e3b2c6",
   "metadata": {},
   "outputs": [],
   "source": [
    "import matplotlib.pyplot as plt\n",
    "import numpy as np\n",
    "\n",
    "x = \n",
    "y = \n",
    "plt.plot()"
   ]
  },
  {
   "cell_type": "markdown",
   "id": "52b42f43",
   "metadata": {},
   "source": [
    "### Pandas ####"
   ]
  },
  {
   "cell_type": "code",
   "execution_count": null,
   "id": "689cbbeb",
   "metadata": {},
   "outputs": [],
   "source": [
    "import pandas as pd\n",
    " \n",
    "data = {\n",
    "    'year': [2016, 2017, 2018, 2019, 2020, 2021],\n",
    "    'GDP rate': [2.8, 3.1, 3.0, 3.2, 3.3, 3.4],\n",
    "    'GDP': ['1.637M', '1.73M', '1.83M', '1.62M', '1.77M', '1.89M']\n",
    "}\n",
    " \n",
    "df = pd.DataFrame(data)\n",
    "print(df)"
   ]
  },
  {
   "cell_type": "code",
   "execution_count": null,
   "id": "2d8d8075",
   "metadata": {},
   "outputs": [],
   "source": [
    "# dataframe의 최초 5개 행 보여줌\n",
    "df.head()"
   ]
  },
  {
   "cell_type": "code",
   "execution_count": null,
   "id": "2817bfff",
   "metadata": {},
   "outputs": [],
   "source": [
    "# dataframe의 마지막 3개 행 보여줌\n",
    "df.tail(3)"
   ]
  },
  {
   "cell_type": "code",
   "execution_count": null,
   "id": "22cbe8fa",
   "metadata": {},
   "outputs": [],
   "source": [
    "# dataframe의 기초 통계 보여줌 \n",
    "df.describe()"
   ]
  },
  {
   "cell_type": "code",
   "execution_count": null,
   "id": "4b7b6a4a",
   "metadata": {},
   "outputs": [],
   "source": [
    "df.info()"
   ]
  },
  {
   "cell_type": "markdown",
   "id": "1d9b33dc",
   "metadata": {},
   "source": [
    "### MNIST DATASET"
   ]
  },
  {
   "cell_type": "code",
   "execution_count": null,
   "id": "19ae2a8e",
   "metadata": {},
   "outputs": [],
   "source": [
    "\n",
    "# Python ≥3.5 is required\n",
    "import sys\n",
    "assert sys.version_info >= (3, 5)\n",
    "\n",
    "# Is this notebook running on Colab or Kaggle?\n",
    "IS_COLAB = \"google.colab\" in sys.modules\n",
    "IS_KAGGLE = \"kaggle_secrets\" in sys.modules\n",
    "\n",
    "# Scikit-Learn ≥0.20 is required\n",
    "import sklearn\n",
    "assert sklearn.__version__ >= \"0.20\"\n",
    "\n",
    "# Common imports\n",
    "import numpy as np\n",
    "import os\n",
    "\n",
    "# to make this notebook's output stable across runs\n",
    "np.random.seed(42)\n",
    "\n",
    "# To plot pretty figures\n",
    "%matplotlib inline\n",
    "import matplotlib as mpl\n",
    "import matplotlib.pyplot as plt\n",
    "mpl.rc('axes', labelsize=14)\n",
    "mpl.rc('xtick', labelsize=12)\n",
    "mpl.rc('ytick', labelsize=12)\n",
    "\n",
    "# Where to save the figures\n",
    "PROJECT_ROOT_DIR = \".\"\n",
    "CHAPTER_ID = \"classification\"\n",
    "IMAGES_PATH = os.path.join(PROJECT_ROOT_DIR, \"images\", CHAPTER_ID)\n",
    "os.makedirs(IMAGES_PATH, exist_ok=True)\n",
    "\n",
    "def save_fig(fig_id, tight_layout=True, fig_extension=\"png\", resolution=300):\n",
    "    path = os.path.join(IMAGES_PATH, fig_id + \".\" + fig_extension)\n",
    "    print(\"Saving figure\", fig_id)\n",
    "    if tight_layout:\n",
    "        plt.tight_layout()\n",
    "    plt.savefig(path, format=fig_extension, dpi=resolution)"
   ]
  },
  {
   "cell_type": "code",
   "execution_count": null,
   "id": "8272fd82",
   "metadata": {},
   "outputs": [],
   "source": [
    "# Scikit learn에 MNIST DATASET 있음 \n",
    "# MNIST DATASET: 70,000 small images 불러오기 \n",
    "# data에 대한 특징들, 예: DESCR (DATASET 설명), TARGET: LABEL들 \n",
    "from sklearn.datasets import fetch_openml\n",
    "mnist = fetch_openml('mnist_784', version=1, as_frame=False)"
   ]
  },
  {
   "cell_type": "code",
   "execution_count": null,
   "id": "add40feb",
   "metadata": {},
   "outputs": [],
   "source": [
    "# MNIST DATASET 구성\n",
    "# 70,000행, 784열 \n",
    "# 즉, 70,000개의 image가 있고 각각의 image는 784개의 픽셀로 이루어짐 \n",
    "# 행렬의 차원 출력, shape\n",
    "# 여기서 X는 데이터, y는 각각의 데이터의 정답, 즉 어떤 숫자를 가리키는지 나타냄 (0-9까지의 숫자)\n",
    "X, y = mnist[\"data\"], mnist[\"target\"]\n",
    "# 몇 행, 몇 열인지 확인가능, 70,000행, 784열 \n",
    "X.shape"
   ]
  },
  {
   "cell_type": "code",
   "execution_count": null,
   "id": "42e37192",
   "metadata": {},
   "outputs": [],
   "source": [
    "# 최초 글자 이미지 (X[0])는 784개의 픽셀로 이루어져있는데 이것의 정답 label y[0]는 5이다 \n",
    "print(len(X[0]))\n",
    "print(y[0])"
   ]
  },
  {
   "cell_type": "code",
   "execution_count": null,
   "id": "4f859867",
   "metadata": {},
   "outputs": [],
   "source": [
    "# 각 IMAGE 크기 28X28 이를 1차원으로 풀어서 784 특징이 됨 \n",
    "# 각 특징에는 0부터 255까지의 픽셀값 (pixel intensity)이 들어가 있음 \n",
    "# 픽셀값이 255에 다가갈수록 밝음, 0에 다가갈수록 어두움\n",
    "28 * 28"
   ]
  },
  {
   "attachments": {},
   "cell_type": "markdown",
   "id": "79d36700",
   "metadata": {},
   "source": [
    "#### 연습!\n",
    "\n",
    "밑의 코드를 수정하며 `X[1]`, `X[2]`도 확인해보자. 어떤 글자로 보이는가? 정답과 비교해보자."
   ]
  },
  {
   "cell_type": "code",
   "execution_count": null,
   "id": "9d0b3baa",
   "metadata": {},
   "outputs": [],
   "source": [
    "# x[0]:5 처럼 보임 \n",
    "%matplotlib inline\n",
    "import matplotlib as mpl\n",
    "import matplotlib.pyplot as plt\n",
    "\n",
    "some_digit = X[0]\n",
    "# 1차원 784개의 픽셀을, 행렬처럼 28*28짜리로 차원 바꿈 \n",
    "some_digit_image = some_digit.reshape(28, 28)\n",
    "plt.imshow(some_digit_image, cmap=mpl.cm.binary)\n",
    "plt.axis(\"off\")\n",
    "\n",
    "save_fig(\"some_digit_plot\")\n",
    "plt.show()\n",
    "\n",
    "# 실제 label도 5인지 확인 \n",
    "y[0]"
   ]
  },
  {
   "cell_type": "code",
   "execution_count": null,
   "id": "833c34d8",
   "metadata": {},
   "outputs": [],
   "source": [
    "# Image의 픽셀값은 0-255사이의 정수, 즉 8bit 로 표현. 이러한 자료형 (uint8)으로 변환 \n",
    "y = y.astype(np.uint8)"
   ]
  },
  {
   "cell_type": "code",
   "execution_count": null,
   "id": "657f42f6",
   "metadata": {},
   "outputs": [],
   "source": [
    "def plot_digit(data):\n",
    "    image = data.reshape(28, 28)\n",
    "    plt.imshow(image, cmap = mpl.cm.binary,\n",
    "               interpolation=\"nearest\")\n",
    "    plt.axis(\"off\")"
   ]
  },
  {
   "cell_type": "code",
   "execution_count": null,
   "id": "592a3bc7",
   "metadata": {},
   "outputs": [],
   "source": [
    "# EXTRA\n",
    "def plot_digits(instances, images_per_row=10, **options):\n",
    "    size = 28\n",
    "    images_per_row = min(len(instances), images_per_row)\n",
    "    # This is equivalent to n_rows = ceil(len(instances) / images_per_row):\n",
    "    n_rows = (len(instances) - 1) // images_per_row + 1\n",
    "\n",
    "    # Append empty images to fill the end of the grid, if needed:\n",
    "    n_empty = n_rows * images_per_row - len(instances)\n",
    "    padded_instances = np.concatenate([instances, np.zeros((n_empty, size * size))], axis=0)\n",
    "\n",
    "    # Reshape the array so it's organized as a grid containing 28×28 images:\n",
    "    image_grid = padded_instances.reshape((n_rows, images_per_row, size, size))\n",
    "\n",
    "    # Combine axes 0 and 2 (vertical image grid axis, and vertical image axis),\n",
    "    # and axes 1 and 3 (horizontal axes). We first need to move the axes that we\n",
    "    # want to combine next to each other, using transpose(), and only then we\n",
    "    # can reshape:\n",
    "    big_image = image_grid.transpose(0, 2, 1, 3).reshape(n_rows * size,\n",
    "                                                         images_per_row * size)\n",
    "    # Now that we have a big image, we just need to show it:\n",
    "    plt.imshow(big_image, cmap = mpl.cm.binary, **options)\n",
    "    plt.axis(\"off\")"
   ]
  },
  {
   "cell_type": "code",
   "execution_count": null,
   "id": "e59f2326",
   "metadata": {},
   "outputs": [],
   "source": [
    "plt.figure(figsize=(9,9))\n",
    "# 최초 100개의 image 시각화 \n",
    "example_images = X[:100]\n",
    "# 각 행에 10개의 image들  보여줌 \n",
    "plot_digits(example_images, images_per_row=10)\n",
    "save_fig(\"more_digits_plot\")\n",
    "plt.show()"
   ]
  },
  {
   "cell_type": "markdown",
   "id": "7aa62d16",
   "metadata": {},
   "source": [
    "## 이진 분류기 학습 및 평가"
   ]
  },
  {
   "cell_type": "code",
   "execution_count": null,
   "id": "05fe92f4",
   "metadata": {},
   "outputs": [],
   "source": [
    "# 최초 60,000개의 image를 훈련 데이터\n",
    "# 뒤 10,000개의 image를 테스트 데이터 \n",
    "X_train, X_test, y_train, y_test = X[:60000], X[60000:], y[:60000], y[60000:]\n",
    "# 주어진 숫자가 5인지 아닌지 이진 분류기 훈련 (학습)후에 테스트 \n",
    "# 5 or not 5\n",
    "y_train_5 = (y_train == 5)\n",
    "y_test_5 = (y_test == 5)"
   ]
  },
  {
   "cell_type": "code",
   "execution_count": null,
   "id": "95b668e2",
   "metadata": {},
   "outputs": [],
   "source": [
    "# 기본적으로 Scikit-learn의 기본 분류기를 사용하여 학습\n",
    "# Stochastic gradient descent 방법 사용, \n",
    "# 무작위성에의해서 결과가 항상 같지는 않음 \n",
    "from sklearn.linear_model import SGDClassifier\n",
    "\n",
    "sgd_clf = SGDClassifier(max_iter=1000, tol=1e-3, random_state=42)\n",
    "sgd_clf.fit(X_train, y_train_5)"
   ]
  },
  {
   "cell_type": "code",
   "execution_count": null,
   "id": "be823e84",
   "metadata": {},
   "outputs": [],
   "source": [
    "# 숫자 5를 5라고 제대로 예측 (true, 참 )\n",
    "sgd_clf.predict([some_digit])"
   ]
  },
  {
   "cell_type": "code",
   "execution_count": null,
   "id": "c0c0488c",
   "metadata": {},
   "outputs": [],
   "source": [
    "# cross validation (CV), K-fold cross validation 사용, K=3\n",
    "# data를 3개로 나누어서 사용, 2개 부분은 학습용, 1개 부분은 TEST용으로 사용 \n",
    "# overfitting 방지용, 각각의 fold에 대한 예측 결과 (정확도) 표시\n",
    "# 각각의 fold에 대하여 95% 이상 정확도? \n",
    "# random성 때문에 모든 사람이 같은 결과가 나오지는 않음 \n",
    "from sklearn.model_selection import cross_val_score\n",
    "cross_val_score(sgd_clf, X_train, y_train_5, cv=3, scoring=\"accuracy\")"
   ]
  },
  {
   "cell_type": "code",
   "execution_count": null,
   "id": "1a89e4ae",
   "metadata": {},
   "outputs": [],
   "source": [
    "# dumb classifier (멍청한 분류기)\n",
    "# 모든 image를 5가 아니라고 예측 \n",
    "# 결과는? \n",
    "from sklearn.base import BaseEstimator\n",
    "class Never5Classifier(BaseEstimator):\n",
    "    def fit(self, X, y=None):\n",
    "        pass\n",
    "    def predict(self, X):\n",
    "        return np.zeros((len(X), 1), dtype=bool)"
   ]
  },
  {
   "cell_type": "code",
   "execution_count": null,
   "id": "a99e35a2",
   "metadata": {},
   "outputs": [],
   "source": [
    "# 모든 image를 5가 아니라고 예측하는 멍청한 이진 분류기의 성능은?\n",
    "# 90% 이상 정확도가 나온다? why? \n",
    "never_5_clf = Never5Classifier()\n",
    "cross_val_score(never_5_clf, X_train, y_train_5, cv=3, scoring=\"accuracy\")"
   ]
  },
  {
   "cell_type": "markdown",
   "id": "ed348d99",
   "metadata": {},
   "source": [
    "## 분류기 성능 평가 (CONFUSION MATRIX)"
   ]
  },
  {
   "cell_type": "code",
   "execution_count": null,
   "id": "fad798b7",
   "metadata": {},
   "outputs": [],
   "source": [
    "from sklearn.model_selection import cross_val_predict\n",
    "\n",
    "y_train_pred = cross_val_predict(sgd_clf, X_train, y_train_5, cv=3)"
   ]
  },
  {
   "cell_type": "code",
   "execution_count": null,
   "id": "2d25b392",
   "metadata": {},
   "outputs": [],
   "source": [
    "# 각 행 실제 class, 각 열 예측한 class\n",
    "# 1행: non-5 images, 1열: non-5 images\n",
    "# 2행: 5 images, 2열: 5 images\n",
    "# 53892번 실제 5가 아닌 image인데 5가 아니라고 올바르게 예측 \n",
    "# 3530번 실제 5인 image인데 5라고 올바르게 예측 \n",
    "# 687번 실제 5가 아닌 image인데 5라고 잘못 예측\n",
    "# 1891번 실제 5인데 5가 아니라고 잘못 예측  \n",
    "# 즉, 행과 열이 같은 부분이 올바르게 예측된 부분 \n",
    "from sklearn.metrics import confusion_matrix\n",
    "\n",
    "confusion_matrix(y_train_5, y_train_pred)"
   ]
  },
  {
   "cell_type": "code",
   "execution_count": null,
   "id": "03854e09",
   "metadata": {},
   "outputs": [],
   "source": [
    "# 총 60,000개의 training image중에 5인것이 5421개, 5가 아닌것이 54,579\n",
    "# 완벽한 분류기 \n",
    "y_train_perfect_predictions = y_train_5  # pretend we reached perfection\n",
    "confusion_matrix(y_train_5, y_train_perfect_predictions)"
   ]
  },
  {
   "cell_type": "markdown",
   "id": "893b82f1",
   "metadata": {},
   "source": [
    "## Linear regression 실습"
   ]
  },
  {
   "cell_type": "code",
   "execution_count": null,
   "id": "bdd4278e",
   "metadata": {},
   "outputs": [],
   "source": [
    "# numpy와 matplotlib 라이브러리 사용 \n",
    "# 데이터 시각화\n",
    "import numpy as np\n",
    "import matplotlib.pyplot as plt\n",
    "\n",
    "# X 피자 크기 (열벡터 형태로)\n",
    "X = np.array([6, 8, 10, 14, 18]).reshape(-1, 1)\n",
    "print(X)\n",
    "\n",
    "# y 피자 가격 (행벡터 형태로)\n",
    "y = [7, 9, 13, 17.5, 18]\n",
    "print(y)\n",
    "\n",
    "# 그림 그림, 시각화 \n",
    "plt.figure()\n",
    "plt.title('Pizza price plotted against diameter')\n",
    "plt.xlabel('Diameter in inches') \n",
    "plt.ylabel('Price in dollars')\n",
    "plt.plot(X, y, 'k.') # 검정색 점으로 표시 \n",
    "plt.axis([0, 25, 0, 25]) # 축 범위 \n",
    "plt.grid(True) # 격자 grid 표시 \n",
    "plt.show()"
   ]
  },
  {
   "cell_type": "code",
   "execution_count": null,
   "id": "910fc00f",
   "metadata": {},
   "outputs": [],
   "source": [
    "import numpy as np\n",
    "from sklearn.linear_model import LinearRegression"
   ]
  },
  {
   "cell_type": "code",
   "execution_count": null,
   "id": "4c36068c",
   "metadata": {},
   "outputs": [],
   "source": [
    "# 총 5개의 데이터, X: 피자 크기, y: 피자 가격 \n",
    "X = np.array([6, 8, 10, 14, 18]).reshape(-1, 1)\n",
    "y = [7, 9, 13, 17.5, 18]"
   ]
  },
  {
   "cell_type": "code",
   "execution_count": null,
   "id": "b93e865b",
   "metadata": {},
   "outputs": [],
   "source": [
    "# 나중에 오차, MSE 측정 ()\n",
    "from sklearn.metrics import mean_squared_error\n",
    "# Create an instance of the estimator, LinearRegression\n",
    "model = LinearRegression()\n",
    "# Fit the model on the training data\n",
    "reg=model.fit(X, y)\n",
    "# fitting 결과 출력 \n",
    "# y=c0+c1X\n",
    "# C1 (직선의 기울기)\n",
    "print(reg.coef_) \n",
    "# C0 (y절편)\n",
    "print(reg.intercept_)\n",
    "plt.xlabel('Diameter in inches')\n",
    "plt.ylabel('Price in dollars')\n",
    "# scatter plot\n",
    "plt.scatter(X, y)\n",
    "# 예측, 즉, fitting한 결과 직선으로 그림 \n",
    "plt.plot(X, model.predict(X))\n",
    "plt.grid(True) "
   ]
  },
  {
   "cell_type": "markdown",
   "id": "ac561d4e",
   "metadata": {},
   "source": [
    "## RMSE 계산"
   ]
  },
  {
   "cell_type": "code",
   "execution_count": null,
   "id": "3ad9401e",
   "metadata": {},
   "outputs": [],
   "source": [
    "import math\n",
    "y_true = [3, -0.5, 2, 7]\n",
    "y_pred = [2.5, 0.0, 2, 8]\n",
    "# RMSE\n",
    "a=(mean_squared_error(y_true, y_pred, squared=False))\n",
    "print(a)\n",
    "# MSE\n",
    "b=(mean_squared_error(y_true, y_pred))\n",
    "print(b)\n",
    "print(math.sqrt(b))"
   ]
  },
  {
   "cell_type": "code",
   "execution_count": null,
   "id": "8c126c85",
   "metadata": {},
   "outputs": [],
   "source": [
    "# ftting 결과 RMSE\n",
    "mean_squared_error(model.predict(X), y, squared=False)"
   ]
  },
  {
   "cell_type": "code",
   "execution_count": null,
   "id": "1d3ce4d3",
   "metadata": {},
   "outputs": [],
   "source": [
    "# Predict the price of a pizza with a diameter that has never been seen before\n",
    "diameter = 24\n",
    "test_pizza = np.array([[diameter]])\n",
    "predicted_price = model.predict(test_pizza)[0]\n",
    "print('A 24\" pizza should cost: $%.2f' % predicted_price)"
   ]
  },
  {
   "attachments": {},
   "cell_type": "markdown",
   "id": "89bdb427",
   "metadata": {},
   "source": [
    "#### 연습!\n",
    "\n",
    "크기가 **12**인치일때의 피자 가격을 예측해보자!"
   ]
  },
  {
   "cell_type": "code",
   "execution_count": null,
   "id": "782049cb",
   "metadata": {},
   "outputs": [],
   "source": [
    "# 아래에 코드를 작성하세요"
   ]
  },
  {
   "cell_type": "markdown",
   "id": "cecb9354",
   "metadata": {},
   "source": [
    "## multiple linear regression"
   ]
  },
  {
   "cell_type": "code",
   "execution_count": null,
   "id": "67ccb08b",
   "metadata": {},
   "outputs": [],
   "source": [
    "import numpy as np\n",
    "import matplotlib.pyplot as plt\n",
    "from sklearn.linear_model import LinearRegression\n",
    "X=[[6,2], [8, 1], [10, 0], [14,2], [18, 0]]\n",
    "y=[[7], [9], [13], [17.5], [18]]\n",
    "model=LinearRegression()\n",
    "model.fit(X,y)\n",
    "print(model.coef_)\n",
    "# y (가격)=1.01*크기 + 0.39*토핑수 + 1.1875\n",
    "# 즉, 양의 상관관계, 크기와 토핑수가 커질수록 가격이 올라감\n",
    "# 또한, 크기가 가격에 영향을 더 많이 미침 \n",
    "print(model.intercept_)\n",
    "# 크기가 8이고 토핑수 2일때 가격 예측 \n",
    "print(model.predict([[8, 2]]))\n",
    "# RMSE\n",
    "print(mean_squared_error(model.predict(X), y, squared=False))"
   ]
  }
 ],
 "metadata": {
  "kernelspec": {
   "display_name": "Python 3 (ipykernel)",
   "language": "python",
   "name": "python3"
  },
  "language_info": {
   "codemirror_mode": {
    "name": "ipython",
    "version": 3
   },
   "file_extension": ".py",
   "mimetype": "text/x-python",
   "name": "python",
   "nbconvert_exporter": "python",
   "pygments_lexer": "ipython3",
   "version": "3.9.13 (main, Aug 25 2022, 23:51:50) [MSC v.1916 64 bit (AMD64)]"
  },
  "vscode": {
   "interpreter": {
    "hash": "e4cce46d6be9934fbd27f9ca0432556941ea5bdf741d4f4d64c6cd7f8dfa8fba"
   }
  }
 },
 "nbformat": 4,
 "nbformat_minor": 5
}
