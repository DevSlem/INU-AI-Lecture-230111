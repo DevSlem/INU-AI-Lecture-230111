{
 "cells": [
  {
   "cell_type": "markdown",
   "id": "9389ae51-a5e0-408a-8435-84cd2329b08e",
   "metadata": {},
   "source": [
    "# 데이터 전처리하기"
   ]
  },
  {
   "cell_type": "code",
   "execution_count": null,
   "id": "2cdce51c-4af2-4d74-82e1-4f68bb654904",
   "metadata": {},
   "outputs": [],
   "source": [
    "import pandas as pd\n",
    "import matplotlib.pyplot as plt\n",
    "import numpy as np\n",
    "import matplotlib\n",
    "matplotlib.rcParams['font.family'] = 'Malgun Gothic'"
   ]
  },
  {
   "cell_type": "code",
   "execution_count": null,
   "id": "9c343e6a-28d3-4981-b0db-90d595766829",
   "metadata": {},
   "outputs": [],
   "source": [
    "#날씨 .csv파일 불러오기\n",
    "weather_df = pd.read_csv(\"./OBS_ASOS_DD_20230101194708.csv\", encoding=\"euc-kr\")\n",
    "# 데이터의 최초 5개의 행 보여줌 \n",
    "weather_df.head()"
   ]
  },
  {
   "cell_type": "code",
   "execution_count": null,
   "id": "ebe7ba80-3c3e-4f0d-9570-f79f873151c2",
   "metadata": {},
   "outputs": [],
   "source": [
    "# 특정 열 제거 (최초 2개열)\n",
    "weather_df = weather_df.drop(columns=[\"지점\", \"지점명\"])\n",
    "# 열 이름 바꿈 \n",
    "weather_df = weather_df.rename(columns={\"일시\": \"년월일\"})\n",
    "weather_df = weather_df.set_index(\"년월일\")"
   ]
  },
  {
   "cell_type": "code",
   "execution_count": null,
   "id": "07b304ae",
   "metadata": {},
   "outputs": [],
   "source": [
    "# head: 상위 5개 행, info, describe, hist\n",
    "weather_df.head()"
   ]
  },
  {
   "cell_type": "code",
   "execution_count": null,
   "id": "876c7455",
   "metadata": {},
   "outputs": [],
   "source": [
    "# 데이터에 대한 기본적인 정보\n",
    "# 행수, 열수등, 어떤 데이터 형태인가?\n",
    "weather_df.info()"
   ]
  },
  {
   "cell_type": "code",
   "execution_count": null,
   "id": "ef5e3043",
   "metadata": {},
   "outputs": [],
   "source": [
    "# 각 열에 대한 기본적인 통계, 평균등\n",
    "weather_df.describe()"
   ]
  },
  {
   "cell_type": "code",
   "execution_count": null,
   "id": "437dda40",
   "metadata": {
    "scrolled": true
   },
   "outputs": [],
   "source": [
    "# histogram\n",
    "weather_df.hist()"
   ]
  },
  {
   "cell_type": "code",
   "execution_count": null,
   "id": "05c2ee43-cafe-4bd8-af63-429d28bc432a",
   "metadata": {},
   "outputs": [],
   "source": [
    "#확진자수 .csv파일 불러오기\n",
    "covid_df = pd.read_csv(\"./인천광역시 남동구_일별 코로나19 확진자수 현황_20220928.csv\", encoding=\"euc-kr\")\n",
    "covid_df.head()"
   ]
  },
  {
   "cell_type": "code",
   "execution_count": null,
   "id": "4f1951a9",
   "metadata": {},
   "outputs": [],
   "source": [
    "### 연습, covid_df의 통계, 히스토그램등 시각화 ###"
   ]
  },
  {
   "cell_type": "code",
   "execution_count": null,
   "id": "77e12c6b-5e09-4597-b10f-051c83877732",
   "metadata": {},
   "outputs": [],
   "source": [
    "#.불필요한 열 제거, \n",
    "#'날짜'열을 '년월일'로 바꾸고 인덱스로 설정하기\n",
    "covid_df = covid_df[[\"날짜\", \"확진자수\"]]\n",
    "\n",
    "covid_df = covid_df.rename(columns={\"날짜\": \"년월일\"})\n",
    "\n",
    "covid_df = covid_df.set_index(\"년월일\")\n",
    "\n",
    "covid_df.head()"
   ]
  },
  {
   "cell_type": "code",
   "execution_count": null,
   "id": "ce33f0eb-5196-44ba-94b5-6832cb7b4244",
   "metadata": {},
   "outputs": [],
   "source": [
    "#두 데이터 frame (weather dataframe, covid dataframe)합치기, 합쳐서 새로운 dataframe 만듬 \n",
    "data_df = weather_df.merge(covid_df, left_index=True, right_index=True)\n",
    "#NaN (Not-a-Number) 값 0으로 바꾸어주기\n",
    "data_df = data_df.fillna(0)\n",
    "# 두 데이터 프레임을 합친후에 상위 5개의 행 보여줌 \n",
    "data_df.head()"
   ]
  },
  {
   "cell_type": "code",
   "execution_count": null,
   "id": "2657d529-347e-463a-b1fb-859cc161d25e",
   "metadata": {},
   "outputs": [],
   "source": [
    "#.csv 파일로 저장하기\n",
    "data_df.to_csv(\"weather_covid.csv\")"
   ]
  },
  {
   "cell_type": "markdown",
   "id": "7b76a798",
   "metadata": {},
   "source": [
    "# 시각화"
   ]
  },
  {
   "cell_type": "code",
   "execution_count": null,
   "id": "634f2c5a",
   "metadata": {},
   "outputs": [],
   "source": [
    "# 온도 변화 시각화 \n",
    "import matplotlib\n",
    "matplotlib.rcParams['font.family'] = 'Malgun Gothic'\n",
    "matplotlib.rcParams['axes.unicode_minus'] = False\n",
    "# 최초 100일 온도\n",
    "df3 = weather_df.head(100)\n",
    "x3 = df3.head(100).index\n",
    "y3 = df3.head(100)[\"평균기온(°C)\"]"
   ]
  },
  {
   "cell_type": "code",
   "execution_count": null,
   "id": "3fa26f23",
   "metadata": {},
   "outputs": [],
   "source": [
    "plt.figure(figsize=(20, 5))\n",
    "plt.scatter(x3, y3)\n",
    "plt.xticks(np.arange(0, len(x3), 7))\n",
    "plt.xticks(rotation=30)\n",
    "plt.title(\"인천 온도\", fontsize=20)\n",
    "plt.xlabel(\"년월일\", fontsize=14)\n",
    "plt.ylabel(\"온도\", fontsize=14)\n",
    "plt.show()"
   ]
  },
  {
   "cell_type": "code",
   "execution_count": null,
   "id": "fa443f82",
   "metadata": {},
   "outputs": [],
   "source": [
    "import matplotlib\n",
    "matplotlib.rcParams['font.family'] = 'Malgun Gothic'\n",
    "matplotlib.rcParams['axes.unicode_minus'] = False\n",
    "# 최초 100일 코로나 확진자수 dataframe\n",
    "df1 = covid_df.head(100)\n",
    "\n",
    "x2 = df1.index\n",
    "y2 = df1.head(100)[\"확진자수\"]"
   ]
  },
  {
   "cell_type": "code",
   "execution_count": null,
   "id": "82e55117",
   "metadata": {},
   "outputs": [],
   "source": [
    "plt.figure(figsize=(20, 5))\n",
    "plt.scatter(x2, y2)\n",
    "plt.xticks(np.arange(0, len(x2), 7))\n",
    "plt.xticks(rotation=30)\n",
    "plt.title(\"코로나19 일별 확진자수(인천)\", fontsize=20)\n",
    "plt.xlabel(\"년월일\", fontsize=14)\n",
    "plt.ylabel(\"확진자수\", fontsize=14)\n",
    "plt.show()"
   ]
  },
  {
   "cell_type": "code",
   "execution_count": null,
   "id": "b68f79e9",
   "metadata": {},
   "outputs": [],
   "source": [
    "plt.figure(figsize=(8, 5))\n",
    "plt.hist(df1.확진자수, bins=10)\n",
    "plt.xticks(np.arange(0, max(df1.확진자수), 500))\n",
    "plt.title(\"코로나19 일별 확진자수(인천)\", fontsize=20)\n",
    "plt.xlabel(\"계급(확진자수)\", fontsize=14)\n",
    "plt.ylabel(\"빈도수(일수)\", fontsize=14)\n",
    "plt.show()"
   ]
  },
  {
   "cell_type": "markdown",
   "id": "9207a652-f65d-49f9-bdb3-7e7a37934785",
   "metadata": {},
   "source": [
    "# 선형회귀 모델 만들기"
   ]
  },
  {
   "cell_type": "code",
   "execution_count": null,
   "id": "14c361e6",
   "metadata": {},
   "outputs": [],
   "source": [
    "import pandas as pd\n",
    "import numpy as np\n",
    "import tensorflow as tf\n",
    "from sklearn.linear_model import LinearRegression"
   ]
  },
  {
   "cell_type": "code",
   "execution_count": null,
   "id": "cb9d0da9-8efa-4f46-a390-9ded92b469b8",
   "metadata": {},
   "outputs": [],
   "source": [
    "#데이터 준비\n",
    "xy = np.array(data_df, dtype=np.float32)\n",
    "# 마지막 열 (확진자수)만 빼고 x_data 변수에 저장\n",
    "x_data = xy[:, :-1]\n",
    "# 마지막 열만 y_data에 저장 (예측하고 싶은 값 )\n",
    "y_data = xy[:, -1:]"
   ]
  },
  {
   "cell_type": "code",
   "execution_count": null,
   "id": "a9a31f58",
   "metadata": {},
   "outputs": [],
   "source": [
    "# linear regression fitting\n",
    "from sklearn.metrics import mean_squared_error\n",
    "reg = LinearRegression()\n",
    "reg.fit(x_data, y_data)\n",
    "\n",
    "# fitting 결과\n",
    "print(reg.coef_)\n",
    "print(reg.intercept_)\n",
    "\n",
    "# 어떤 특징이 가장 중요한가?\n",
    "# 첫번째 특징, 즉, 평균 온도가 가장 확진자수에 영향을 많이 미침\n",
    "# 단, 음의 상관관계 \n",
    "\n",
    "# 평균 제곱 오차 출력\n",
    "print(mean_squared_error(reg.predict(x_data), y_data, squared=False))"
   ]
  },
  {
   "cell_type": "markdown",
   "id": "b9b740d7-bd64-4c26-99c8-4bd4a1174387",
   "metadata": {},
   "source": [
    "## 직접 입력을 넣어서 예측해보기"
   ]
  },
  {
   "cell_type": "code",
   "execution_count": null,
   "id": "0e3f47d1-cb59-40e7-8973-7ba45115fb27",
   "metadata": {},
   "outputs": [],
   "source": [
    "temp = float(input(\"평균 기온: \"))\n",
    "rainfall = max(float(input(\"일강수량(mm): \")), 0)\n",
    "max_windspeed = max(float(input(\"최대 순간 풍속 (m/s): \")), 0)\n",
    "min_humidity = np.clip(float(input(\"최소 상대습도(%): \")), 0.0, 1.0)\n",
    "snowfall = max(float(input(\"일 최심적설(cm): \")), 0)\n",
    "print()\n",
    "\n",
    "#입력 만들기\n",
    "pred_x = [[temp, rainfall, max_windspeed, min_humidity, snowfall]]\n",
    "\n",
    "n_covid = reg.predict(pred_x)[0][0]\n",
    "\n",
    "if n_covid <= 0:\n",
    "    print(\"확진자가 없을 것으로 예측됩니다.\")\n",
    "else:\n",
    "    print(f\"확진자 수가 약 {np.ceil(n_covid)}명으로 예측됩니다\")"
   ]
  },
  {
   "cell_type": "markdown",
   "id": "8ed6f88d",
   "metadata": {},
   "source": [
    "## 인구수 예측 (연습)"
   ]
  },
  {
   "cell_type": "code",
   "execution_count": null,
   "id": "15da1247",
   "metadata": {},
   "outputs": [],
   "source": [
    "import matplotlib.pyplot as plt\n",
    "# 2010부터 2019까지 1씩 증가하면서 10개의 data 생성\n",
    "X = np.linspace(2010, 2019, 10 ).reshape(-1, 1)\n",
    "y=[470171, 471265, 484550, 436455, 435435, 438420, 406243, 355771, 326822, 303054]\n",
    "\n",
    "# x축을 \"연도\", y축을 \"출생아수\"로 하는 산점도 그리기, fontsize=14\n",
    "\n",
    "\n",
    "\n",
    "#---------------------------#"
   ]
  },
  {
   "cell_type": "code",
   "execution_count": null,
   "id": "9904cd91",
   "metadata": {},
   "outputs": [],
   "source": [
    "# LinearRegression 모델 선언하기\n",
    "\n",
    "#---------------------------#\n",
    "# 모델 학습(fit)\n",
    "\n",
    "#---------------------------#\n",
    "print(reg.coef_) \n",
    "print(reg.intercept_)\n",
    "# 산점도 그리기\n",
    "\n",
    "#---------------------------#\n",
    "# 예측, 즉, fitting한 결과 직선으로 그림 \n",
    "\n",
    "#---------------------------#\n",
    "plt.grid(True) "
   ]
  },
  {
   "cell_type": "code",
   "execution_count": null,
   "id": "dcb3d0a4",
   "metadata": {},
   "outputs": [],
   "source": [
    "test_1 = np.array([[2020]])\n",
    "# test_1에 대한 결과값을 예측하기\n",
    "predicted = \n",
    "#---------------------------#\n",
    "print(predicted)"
   ]
  },
  {
   "cell_type": "code",
   "execution_count": null,
   "id": "a77fc0d9",
   "metadata": {},
   "outputs": [],
   "source": [
    "# ftting 결과 RMSE 출력하기\n",
    "\n",
    "#---------------------------#"
   ]
  }
 ],
 "metadata": {
  "kernelspec": {
   "display_name": "tf-env",
   "language": "python",
   "name": "python3"
  },
  "language_info": {
   "codemirror_mode": {
    "name": "ipython",
    "version": 3
   },
   "file_extension": ".py",
   "mimetype": "text/x-python",
   "name": "python",
   "nbconvert_exporter": "python",
   "pygments_lexer": "ipython3",
   "version": "3.7.0"
  },
  "vscode": {
   "interpreter": {
    "hash": "404066ed3bd0a421f22634a67ff031b53dfe4b79c133c70094128cb8a6792860"
   }
  }
 },
 "nbformat": 4,
 "nbformat_minor": 5
}
