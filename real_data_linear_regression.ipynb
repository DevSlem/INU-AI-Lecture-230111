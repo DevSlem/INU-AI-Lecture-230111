{
 "cells": [
  {
   "cell_type": "markdown",
   "id": "9389ae51-a5e0-408a-8435-84cd2329b08e",
   "metadata": {},
   "source": [
    "# 데이터 전처리하기"
   ]
  },
  {
   "cell_type": "code",
   "execution_count": 1,
   "id": "2cdce51c-4af2-4d74-82e1-4f68bb654904",
   "metadata": {},
   "outputs": [],
   "source": [
    "import pandas as pd\n",
    "import matplotlib.pyplot as plt\n",
    "import numpy as np"
   ]
  },
  {
   "cell_type": "code",
   "execution_count": 2,
   "id": "9c343e6a-28d3-4981-b0db-90d595766829",
   "metadata": {},
   "outputs": [
    {
     "data": {
      "text/html": [
       "<div>\n",
       "<style scoped>\n",
       "    .dataframe tbody tr th:only-of-type {\n",
       "        vertical-align: middle;\n",
       "    }\n",
       "\n",
       "    .dataframe tbody tr th {\n",
       "        vertical-align: top;\n",
       "    }\n",
       "\n",
       "    .dataframe thead th {\n",
       "        text-align: right;\n",
       "    }\n",
       "</style>\n",
       "<table border=\"1\" class=\"dataframe\">\n",
       "  <thead>\n",
       "    <tr style=\"text-align: right;\">\n",
       "      <th></th>\n",
       "      <th>지점</th>\n",
       "      <th>지점명</th>\n",
       "      <th>일시</th>\n",
       "      <th>평균기온(°C)</th>\n",
       "      <th>일강수량(mm)</th>\n",
       "      <th>최대 순간 풍속(m/s)</th>\n",
       "      <th>최소 상대습도(%)</th>\n",
       "      <th>일 최심적설(cm)</th>\n",
       "    </tr>\n",
       "  </thead>\n",
       "  <tbody>\n",
       "    <tr>\n",
       "      <th>0</th>\n",
       "      <td>112</td>\n",
       "      <td>인천</td>\n",
       "      <td>2020-03-09</td>\n",
       "      <td>9.4</td>\n",
       "      <td>0.0</td>\n",
       "      <td>8.0</td>\n",
       "      <td>26</td>\n",
       "      <td>NaN</td>\n",
       "    </tr>\n",
       "    <tr>\n",
       "      <th>1</th>\n",
       "      <td>112</td>\n",
       "      <td>인천</td>\n",
       "      <td>2020-03-10</td>\n",
       "      <td>6.3</td>\n",
       "      <td>6.1</td>\n",
       "      <td>14.5</td>\n",
       "      <td>52</td>\n",
       "      <td>NaN</td>\n",
       "    </tr>\n",
       "    <tr>\n",
       "      <th>2</th>\n",
       "      <td>112</td>\n",
       "      <td>인천</td>\n",
       "      <td>2020-03-11</td>\n",
       "      <td>3.8</td>\n",
       "      <td>NaN</td>\n",
       "      <td>11.0</td>\n",
       "      <td>30</td>\n",
       "      <td>NaN</td>\n",
       "    </tr>\n",
       "    <tr>\n",
       "      <th>3</th>\n",
       "      <td>112</td>\n",
       "      <td>인천</td>\n",
       "      <td>2020-03-12</td>\n",
       "      <td>6.7</td>\n",
       "      <td>NaN</td>\n",
       "      <td>9.5</td>\n",
       "      <td>28</td>\n",
       "      <td>NaN</td>\n",
       "    </tr>\n",
       "    <tr>\n",
       "      <th>4</th>\n",
       "      <td>112</td>\n",
       "      <td>인천</td>\n",
       "      <td>2020-03-13</td>\n",
       "      <td>4.2</td>\n",
       "      <td>0.0</td>\n",
       "      <td>11.7</td>\n",
       "      <td>18</td>\n",
       "      <td>NaN</td>\n",
       "    </tr>\n",
       "  </tbody>\n",
       "</table>\n",
       "</div>"
      ],
      "text/plain": [
       "    지점 지점명          일시  평균기온(°C)  일강수량(mm)  최대 순간 풍속(m/s)  최소 상대습도(%)  \\\n",
       "0  112  인천  2020-03-09       9.4       0.0            8.0          26   \n",
       "1  112  인천  2020-03-10       6.3       6.1           14.5          52   \n",
       "2  112  인천  2020-03-11       3.8       NaN           11.0          30   \n",
       "3  112  인천  2020-03-12       6.7       NaN            9.5          28   \n",
       "4  112  인천  2020-03-13       4.2       0.0           11.7          18   \n",
       "\n",
       "   일 최심적설(cm)  \n",
       "0         NaN  \n",
       "1         NaN  \n",
       "2         NaN  \n",
       "3         NaN  \n",
       "4         NaN  "
      ]
     },
     "execution_count": 2,
     "metadata": {},
     "output_type": "execute_result"
    }
   ],
   "source": [
    "#날씨 .csv파일 불러오기\n",
    "weather_df = pd.read_csv(\"./OBS_ASOS_DD_20230101194708.csv\", encoding=\"euc-kr\")\n",
    "# 데이터의 최초 5개의 행 보여줌 \n",
    "weather_df.head()"
   ]
  },
  {
   "cell_type": "code",
   "execution_count": 3,
   "id": "ebe7ba80-3c3e-4f0d-9570-f79f873151c2",
   "metadata": {},
   "outputs": [],
   "source": [
    "# 특정 열 제거 (최초 2개열)\n",
    "weather_df = weather_df.drop(columns=[\"지점\", \"지점명\"])\n",
    "# 열 이름 바꿈 \n",
    "weather_df = weather_df.rename(columns={\"일시\": \"년월일\"})\n",
    "weather_df = weather_df.set_index(\"년월일\")"
   ]
  },
  {
   "cell_type": "code",
   "execution_count": 4,
   "id": "07b304ae",
   "metadata": {},
   "outputs": [
    {
     "data": {
      "text/html": [
       "<div>\n",
       "<style scoped>\n",
       "    .dataframe tbody tr th:only-of-type {\n",
       "        vertical-align: middle;\n",
       "    }\n",
       "\n",
       "    .dataframe tbody tr th {\n",
       "        vertical-align: top;\n",
       "    }\n",
       "\n",
       "    .dataframe thead th {\n",
       "        text-align: right;\n",
       "    }\n",
       "</style>\n",
       "<table border=\"1\" class=\"dataframe\">\n",
       "  <thead>\n",
       "    <tr style=\"text-align: right;\">\n",
       "      <th></th>\n",
       "      <th>평균기온(°C)</th>\n",
       "      <th>일강수량(mm)</th>\n",
       "      <th>최대 순간 풍속(m/s)</th>\n",
       "      <th>최소 상대습도(%)</th>\n",
       "      <th>일 최심적설(cm)</th>\n",
       "    </tr>\n",
       "    <tr>\n",
       "      <th>년월일</th>\n",
       "      <th></th>\n",
       "      <th></th>\n",
       "      <th></th>\n",
       "      <th></th>\n",
       "      <th></th>\n",
       "    </tr>\n",
       "  </thead>\n",
       "  <tbody>\n",
       "    <tr>\n",
       "      <th>2020-03-09</th>\n",
       "      <td>9.4</td>\n",
       "      <td>0.0</td>\n",
       "      <td>8.0</td>\n",
       "      <td>26</td>\n",
       "      <td>NaN</td>\n",
       "    </tr>\n",
       "    <tr>\n",
       "      <th>2020-03-10</th>\n",
       "      <td>6.3</td>\n",
       "      <td>6.1</td>\n",
       "      <td>14.5</td>\n",
       "      <td>52</td>\n",
       "      <td>NaN</td>\n",
       "    </tr>\n",
       "    <tr>\n",
       "      <th>2020-03-11</th>\n",
       "      <td>3.8</td>\n",
       "      <td>NaN</td>\n",
       "      <td>11.0</td>\n",
       "      <td>30</td>\n",
       "      <td>NaN</td>\n",
       "    </tr>\n",
       "    <tr>\n",
       "      <th>2020-03-12</th>\n",
       "      <td>6.7</td>\n",
       "      <td>NaN</td>\n",
       "      <td>9.5</td>\n",
       "      <td>28</td>\n",
       "      <td>NaN</td>\n",
       "    </tr>\n",
       "    <tr>\n",
       "      <th>2020-03-13</th>\n",
       "      <td>4.2</td>\n",
       "      <td>0.0</td>\n",
       "      <td>11.7</td>\n",
       "      <td>18</td>\n",
       "      <td>NaN</td>\n",
       "    </tr>\n",
       "  </tbody>\n",
       "</table>\n",
       "</div>"
      ],
      "text/plain": [
       "            평균기온(°C)  일강수량(mm)  최대 순간 풍속(m/s)  최소 상대습도(%)  일 최심적설(cm)\n",
       "년월일                                                                  \n",
       "2020-03-09       9.4       0.0            8.0          26         NaN\n",
       "2020-03-10       6.3       6.1           14.5          52         NaN\n",
       "2020-03-11       3.8       NaN           11.0          30         NaN\n",
       "2020-03-12       6.7       NaN            9.5          28         NaN\n",
       "2020-03-13       4.2       0.0           11.7          18         NaN"
      ]
     },
     "execution_count": 4,
     "metadata": {},
     "output_type": "execute_result"
    }
   ],
   "source": [
    "# head: 상위 5개 행, info, describe, hist\n",
    "weather_df.head()"
   ]
  },
  {
   "cell_type": "code",
   "execution_count": 5,
   "id": "876c7455",
   "metadata": {},
   "outputs": [
    {
     "name": "stdout",
     "output_type": "stream",
     "text": [
      "<class 'pandas.core.frame.DataFrame'>\n",
      "Index: 365 entries, 2020-03-09 to 2021-03-08\n",
      "Data columns (total 5 columns):\n",
      " #   Column         Non-Null Count  Dtype  \n",
      "---  ------         --------------  -----  \n",
      " 0   평균기온(°C)       365 non-null    float64\n",
      " 1   일강수량(mm)       153 non-null    float64\n",
      " 2   최대 순간 풍속(m/s)  365 non-null    float64\n",
      " 3   최소 상대습도(%)     365 non-null    int64  \n",
      " 4   일 최심적설(cm)     22 non-null     float64\n",
      "dtypes: float64(4), int64(1)\n",
      "memory usage: 17.1+ KB\n"
     ]
    }
   ],
   "source": [
    "# 데이터에 대한 기본적인 정보\n",
    "# 행수, 열수등, 어떤 데이터 형태인가?\n",
    "weather_df.info()"
   ]
  },
  {
   "cell_type": "code",
   "execution_count": 6,
   "id": "ef5e3043",
   "metadata": {},
   "outputs": [
    {
     "data": {
      "text/html": [
       "<div>\n",
       "<style scoped>\n",
       "    .dataframe tbody tr th:only-of-type {\n",
       "        vertical-align: middle;\n",
       "    }\n",
       "\n",
       "    .dataframe tbody tr th {\n",
       "        vertical-align: top;\n",
       "    }\n",
       "\n",
       "    .dataframe thead th {\n",
       "        text-align: right;\n",
       "    }\n",
       "</style>\n",
       "<table border=\"1\" class=\"dataframe\">\n",
       "  <thead>\n",
       "    <tr style=\"text-align: right;\">\n",
       "      <th></th>\n",
       "      <th>평균기온(°C)</th>\n",
       "      <th>일강수량(mm)</th>\n",
       "      <th>최대 순간 풍속(m/s)</th>\n",
       "      <th>최소 상대습도(%)</th>\n",
       "      <th>일 최심적설(cm)</th>\n",
       "    </tr>\n",
       "  </thead>\n",
       "  <tbody>\n",
       "    <tr>\n",
       "      <th>count</th>\n",
       "      <td>365.000000</td>\n",
       "      <td>153.000000</td>\n",
       "      <td>365.000000</td>\n",
       "      <td>365.000000</td>\n",
       "      <td>22.000000</td>\n",
       "    </tr>\n",
       "    <tr>\n",
       "      <th>mean</th>\n",
       "      <td>12.551781</td>\n",
       "      <td>8.494771</td>\n",
       "      <td>9.535342</td>\n",
       "      <td>44.534247</td>\n",
       "      <td>1.481818</td>\n",
       "    </tr>\n",
       "    <tr>\n",
       "      <th>std</th>\n",
       "      <td>9.763324</td>\n",
       "      <td>18.793738</td>\n",
       "      <td>3.283314</td>\n",
       "      <td>17.834620</td>\n",
       "      <td>1.418126</td>\n",
       "    </tr>\n",
       "    <tr>\n",
       "      <th>min</th>\n",
       "      <td>-14.500000</td>\n",
       "      <td>0.000000</td>\n",
       "      <td>4.000000</td>\n",
       "      <td>10.000000</td>\n",
       "      <td>0.100000</td>\n",
       "    </tr>\n",
       "    <tr>\n",
       "      <th>25%</th>\n",
       "      <td>5.500000</td>\n",
       "      <td>0.000000</td>\n",
       "      <td>7.200000</td>\n",
       "      <td>30.000000</td>\n",
       "      <td>0.400000</td>\n",
       "    </tr>\n",
       "    <tr>\n",
       "      <th>50%</th>\n",
       "      <td>13.500000</td>\n",
       "      <td>0.500000</td>\n",
       "      <td>8.600000</td>\n",
       "      <td>43.000000</td>\n",
       "      <td>1.000000</td>\n",
       "    </tr>\n",
       "    <tr>\n",
       "      <th>75%</th>\n",
       "      <td>21.500000</td>\n",
       "      <td>6.600000</td>\n",
       "      <td>11.400000</td>\n",
       "      <td>57.000000</td>\n",
       "      <td>2.250000</td>\n",
       "    </tr>\n",
       "    <tr>\n",
       "      <th>max</th>\n",
       "      <td>30.000000</td>\n",
       "      <td>106.600000</td>\n",
       "      <td>22.300000</td>\n",
       "      <td>92.000000</td>\n",
       "      <td>4.600000</td>\n",
       "    </tr>\n",
       "  </tbody>\n",
       "</table>\n",
       "</div>"
      ],
      "text/plain": [
       "         평균기온(°C)    일강수량(mm)  최대 순간 풍속(m/s)  최소 상대습도(%)  일 최심적설(cm)\n",
       "count  365.000000  153.000000     365.000000  365.000000   22.000000\n",
       "mean    12.551781    8.494771       9.535342   44.534247    1.481818\n",
       "std      9.763324   18.793738       3.283314   17.834620    1.418126\n",
       "min    -14.500000    0.000000       4.000000   10.000000    0.100000\n",
       "25%      5.500000    0.000000       7.200000   30.000000    0.400000\n",
       "50%     13.500000    0.500000       8.600000   43.000000    1.000000\n",
       "75%     21.500000    6.600000      11.400000   57.000000    2.250000\n",
       "max     30.000000  106.600000      22.300000   92.000000    4.600000"
      ]
     },
     "execution_count": 6,
     "metadata": {},
     "output_type": "execute_result"
    }
   ],
   "source": [
    "# 각 열에 대한 기본적인 통계, 평균등\n",
    "weather_df.describe()"
   ]
  },
  {
   "cell_type": "code",
   "execution_count": 7,
   "id": "437dda40",
   "metadata": {
    "scrolled": true
   },
   "outputs": [
    {
     "data": {
      "text/plain": [
       "array([[<AxesSubplot:title={'center':'평균기온(°C)'}>,\n",
       "        <AxesSubplot:title={'center':'일강수량(mm)'}>],\n",
       "       [<AxesSubplot:title={'center':'최대 순간 풍속(m/s)'}>,\n",
       "        <AxesSubplot:title={'center':'최소 상대습도(%)'}>],\n",
       "       [<AxesSubplot:title={'center':'일 최심적설(cm)'}>, <AxesSubplot:>]],\n",
       "      dtype=object)"
      ]
     },
     "execution_count": 7,
     "metadata": {},
     "output_type": "execute_result"
    },
    {
     "name": "stderr",
     "output_type": "stream",
     "text": [
      "c:\\Users\\himlm\\anaconda3\\envs\\tf-env\\lib\\site-packages\\IPython\\core\\events.py:89: UserWarning: Glyph 54217 (\\N{HANGUL SYLLABLE PYEONG}) missing from current font.\n",
      "  func(*args, **kwargs)\n",
      "c:\\Users\\himlm\\anaconda3\\envs\\tf-env\\lib\\site-packages\\IPython\\core\\events.py:89: UserWarning: Glyph 44512 (\\N{HANGUL SYLLABLE GYUN}) missing from current font.\n",
      "  func(*args, **kwargs)\n",
      "c:\\Users\\himlm\\anaconda3\\envs\\tf-env\\lib\\site-packages\\IPython\\core\\events.py:89: UserWarning: Glyph 44592 (\\N{HANGUL SYLLABLE GI}) missing from current font.\n",
      "  func(*args, **kwargs)\n",
      "c:\\Users\\himlm\\anaconda3\\envs\\tf-env\\lib\\site-packages\\IPython\\core\\events.py:89: UserWarning: Glyph 50728 (\\N{HANGUL SYLLABLE ON}) missing from current font.\n",
      "  func(*args, **kwargs)\n",
      "c:\\Users\\himlm\\anaconda3\\envs\\tf-env\\lib\\site-packages\\IPython\\core\\events.py:89: UserWarning: Glyph 51068 (\\N{HANGUL SYLLABLE IL}) missing from current font.\n",
      "  func(*args, **kwargs)\n",
      "c:\\Users\\himlm\\anaconda3\\envs\\tf-env\\lib\\site-packages\\IPython\\core\\events.py:89: UserWarning: Glyph 44053 (\\N{HANGUL SYLLABLE GANG}) missing from current font.\n",
      "  func(*args, **kwargs)\n",
      "c:\\Users\\himlm\\anaconda3\\envs\\tf-env\\lib\\site-packages\\IPython\\core\\events.py:89: UserWarning: Glyph 49688 (\\N{HANGUL SYLLABLE SU}) missing from current font.\n",
      "  func(*args, **kwargs)\n",
      "c:\\Users\\himlm\\anaconda3\\envs\\tf-env\\lib\\site-packages\\IPython\\core\\events.py:89: UserWarning: Glyph 47049 (\\N{HANGUL SYLLABLE RYANG}) missing from current font.\n",
      "  func(*args, **kwargs)\n",
      "c:\\Users\\himlm\\anaconda3\\envs\\tf-env\\lib\\site-packages\\IPython\\core\\events.py:89: UserWarning: Glyph 52572 (\\N{HANGUL SYLLABLE COE}) missing from current font.\n",
      "  func(*args, **kwargs)\n",
      "c:\\Users\\himlm\\anaconda3\\envs\\tf-env\\lib\\site-packages\\IPython\\core\\events.py:89: UserWarning: Glyph 45824 (\\N{HANGUL SYLLABLE DAE}) missing from current font.\n",
      "  func(*args, **kwargs)\n",
      "c:\\Users\\himlm\\anaconda3\\envs\\tf-env\\lib\\site-packages\\IPython\\core\\events.py:89: UserWarning: Glyph 49692 (\\N{HANGUL SYLLABLE SUN}) missing from current font.\n",
      "  func(*args, **kwargs)\n",
      "c:\\Users\\himlm\\anaconda3\\envs\\tf-env\\lib\\site-packages\\IPython\\core\\events.py:89: UserWarning: Glyph 44036 (\\N{HANGUL SYLLABLE GAN}) missing from current font.\n",
      "  func(*args, **kwargs)\n",
      "c:\\Users\\himlm\\anaconda3\\envs\\tf-env\\lib\\site-packages\\IPython\\core\\events.py:89: UserWarning: Glyph 54413 (\\N{HANGUL SYLLABLE PUNG}) missing from current font.\n",
      "  func(*args, **kwargs)\n",
      "c:\\Users\\himlm\\anaconda3\\envs\\tf-env\\lib\\site-packages\\IPython\\core\\events.py:89: UserWarning: Glyph 49549 (\\N{HANGUL SYLLABLE SOG}) missing from current font.\n",
      "  func(*args, **kwargs)\n",
      "c:\\Users\\himlm\\anaconda3\\envs\\tf-env\\lib\\site-packages\\IPython\\core\\events.py:89: UserWarning: Glyph 49548 (\\N{HANGUL SYLLABLE SO}) missing from current font.\n",
      "  func(*args, **kwargs)\n",
      "c:\\Users\\himlm\\anaconda3\\envs\\tf-env\\lib\\site-packages\\IPython\\core\\events.py:89: UserWarning: Glyph 49345 (\\N{HANGUL SYLLABLE SANG}) missing from current font.\n",
      "  func(*args, **kwargs)\n",
      "c:\\Users\\himlm\\anaconda3\\envs\\tf-env\\lib\\site-packages\\IPython\\core\\events.py:89: UserWarning: Glyph 49845 (\\N{HANGUL SYLLABLE SEUB}) missing from current font.\n",
      "  func(*args, **kwargs)\n",
      "c:\\Users\\himlm\\anaconda3\\envs\\tf-env\\lib\\site-packages\\IPython\\core\\events.py:89: UserWarning: Glyph 46020 (\\N{HANGUL SYLLABLE DO}) missing from current font.\n",
      "  func(*args, **kwargs)\n",
      "c:\\Users\\himlm\\anaconda3\\envs\\tf-env\\lib\\site-packages\\IPython\\core\\events.py:89: UserWarning: Glyph 49900 (\\N{HANGUL SYLLABLE SIM}) missing from current font.\n",
      "  func(*args, **kwargs)\n",
      "c:\\Users\\himlm\\anaconda3\\envs\\tf-env\\lib\\site-packages\\IPython\\core\\events.py:89: UserWarning: Glyph 51201 (\\N{HANGUL SYLLABLE JEOG}) missing from current font.\n",
      "  func(*args, **kwargs)\n",
      "c:\\Users\\himlm\\anaconda3\\envs\\tf-env\\lib\\site-packages\\IPython\\core\\events.py:89: UserWarning: Glyph 49444 (\\N{HANGUL SYLLABLE SEOL}) missing from current font.\n",
      "  func(*args, **kwargs)\n",
      "c:\\Users\\himlm\\anaconda3\\envs\\tf-env\\lib\\site-packages\\IPython\\core\\pylabtools.py:151: UserWarning: Glyph 54217 (\\N{HANGUL SYLLABLE PYEONG}) missing from current font.\n",
      "  fig.canvas.print_figure(bytes_io, **kw)\n",
      "c:\\Users\\himlm\\anaconda3\\envs\\tf-env\\lib\\site-packages\\IPython\\core\\pylabtools.py:151: UserWarning: Glyph 44512 (\\N{HANGUL SYLLABLE GYUN}) missing from current font.\n",
      "  fig.canvas.print_figure(bytes_io, **kw)\n",
      "c:\\Users\\himlm\\anaconda3\\envs\\tf-env\\lib\\site-packages\\IPython\\core\\pylabtools.py:151: UserWarning: Glyph 44592 (\\N{HANGUL SYLLABLE GI}) missing from current font.\n",
      "  fig.canvas.print_figure(bytes_io, **kw)\n",
      "c:\\Users\\himlm\\anaconda3\\envs\\tf-env\\lib\\site-packages\\IPython\\core\\pylabtools.py:151: UserWarning: Glyph 50728 (\\N{HANGUL SYLLABLE ON}) missing from current font.\n",
      "  fig.canvas.print_figure(bytes_io, **kw)\n",
      "c:\\Users\\himlm\\anaconda3\\envs\\tf-env\\lib\\site-packages\\IPython\\core\\pylabtools.py:151: UserWarning: Glyph 51068 (\\N{HANGUL SYLLABLE IL}) missing from current font.\n",
      "  fig.canvas.print_figure(bytes_io, **kw)\n",
      "c:\\Users\\himlm\\anaconda3\\envs\\tf-env\\lib\\site-packages\\IPython\\core\\pylabtools.py:151: UserWarning: Glyph 44053 (\\N{HANGUL SYLLABLE GANG}) missing from current font.\n",
      "  fig.canvas.print_figure(bytes_io, **kw)\n",
      "c:\\Users\\himlm\\anaconda3\\envs\\tf-env\\lib\\site-packages\\IPython\\core\\pylabtools.py:151: UserWarning: Glyph 49688 (\\N{HANGUL SYLLABLE SU}) missing from current font.\n",
      "  fig.canvas.print_figure(bytes_io, **kw)\n",
      "c:\\Users\\himlm\\anaconda3\\envs\\tf-env\\lib\\site-packages\\IPython\\core\\pylabtools.py:151: UserWarning: Glyph 47049 (\\N{HANGUL SYLLABLE RYANG}) missing from current font.\n",
      "  fig.canvas.print_figure(bytes_io, **kw)\n",
      "c:\\Users\\himlm\\anaconda3\\envs\\tf-env\\lib\\site-packages\\IPython\\core\\pylabtools.py:151: UserWarning: Glyph 52572 (\\N{HANGUL SYLLABLE COE}) missing from current font.\n",
      "  fig.canvas.print_figure(bytes_io, **kw)\n",
      "c:\\Users\\himlm\\anaconda3\\envs\\tf-env\\lib\\site-packages\\IPython\\core\\pylabtools.py:151: UserWarning: Glyph 45824 (\\N{HANGUL SYLLABLE DAE}) missing from current font.\n",
      "  fig.canvas.print_figure(bytes_io, **kw)\n",
      "c:\\Users\\himlm\\anaconda3\\envs\\tf-env\\lib\\site-packages\\IPython\\core\\pylabtools.py:151: UserWarning: Glyph 49692 (\\N{HANGUL SYLLABLE SUN}) missing from current font.\n",
      "  fig.canvas.print_figure(bytes_io, **kw)\n",
      "c:\\Users\\himlm\\anaconda3\\envs\\tf-env\\lib\\site-packages\\IPython\\core\\pylabtools.py:151: UserWarning: Glyph 44036 (\\N{HANGUL SYLLABLE GAN}) missing from current font.\n",
      "  fig.canvas.print_figure(bytes_io, **kw)\n",
      "c:\\Users\\himlm\\anaconda3\\envs\\tf-env\\lib\\site-packages\\IPython\\core\\pylabtools.py:151: UserWarning: Glyph 54413 (\\N{HANGUL SYLLABLE PUNG}) missing from current font.\n",
      "  fig.canvas.print_figure(bytes_io, **kw)\n",
      "c:\\Users\\himlm\\anaconda3\\envs\\tf-env\\lib\\site-packages\\IPython\\core\\pylabtools.py:151: UserWarning: Glyph 49549 (\\N{HANGUL SYLLABLE SOG}) missing from current font.\n",
      "  fig.canvas.print_figure(bytes_io, **kw)\n",
      "c:\\Users\\himlm\\anaconda3\\envs\\tf-env\\lib\\site-packages\\IPython\\core\\pylabtools.py:151: UserWarning: Glyph 49548 (\\N{HANGUL SYLLABLE SO}) missing from current font.\n",
      "  fig.canvas.print_figure(bytes_io, **kw)\n",
      "c:\\Users\\himlm\\anaconda3\\envs\\tf-env\\lib\\site-packages\\IPython\\core\\pylabtools.py:151: UserWarning: Glyph 49345 (\\N{HANGUL SYLLABLE SANG}) missing from current font.\n",
      "  fig.canvas.print_figure(bytes_io, **kw)\n",
      "c:\\Users\\himlm\\anaconda3\\envs\\tf-env\\lib\\site-packages\\IPython\\core\\pylabtools.py:151: UserWarning: Glyph 49845 (\\N{HANGUL SYLLABLE SEUB}) missing from current font.\n",
      "  fig.canvas.print_figure(bytes_io, **kw)\n",
      "c:\\Users\\himlm\\anaconda3\\envs\\tf-env\\lib\\site-packages\\IPython\\core\\pylabtools.py:151: UserWarning: Glyph 46020 (\\N{HANGUL SYLLABLE DO}) missing from current font.\n",
      "  fig.canvas.print_figure(bytes_io, **kw)\n",
      "c:\\Users\\himlm\\anaconda3\\envs\\tf-env\\lib\\site-packages\\IPython\\core\\pylabtools.py:151: UserWarning: Glyph 49900 (\\N{HANGUL SYLLABLE SIM}) missing from current font.\n",
      "  fig.canvas.print_figure(bytes_io, **kw)\n",
      "c:\\Users\\himlm\\anaconda3\\envs\\tf-env\\lib\\site-packages\\IPython\\core\\pylabtools.py:151: UserWarning: Glyph 51201 (\\N{HANGUL SYLLABLE JEOG}) missing from current font.\n",
      "  fig.canvas.print_figure(bytes_io, **kw)\n",
      "c:\\Users\\himlm\\anaconda3\\envs\\tf-env\\lib\\site-packages\\IPython\\core\\pylabtools.py:151: UserWarning: Glyph 49444 (\\N{HANGUL SYLLABLE SEOL}) missing from current font.\n",
      "  fig.canvas.print_figure(bytes_io, **kw)\n"
     ]
    },
    {
     "data": {
      "image/png": "[encoded data removed]",
      "text/plain": [
       "<Figure size 640x480 with 6 Axes>"
      ]
     },
     "metadata": {},
     "output_type": "display_data"
    }
   ],
   "source": [
    "# histogram\n",
    "weather_df.hist()"
   ]
  },
  {
   "cell_type": "code",
   "execution_count": 8,
   "id": "05c2ee43-cafe-4bd8-af63-429d28bc432a",
   "metadata": {},
   "outputs": [
    {
     "data": {
      "text/html": [
       "<div>\n",
       "<style scoped>\n",
       "    .dataframe tbody tr th:only-of-type {\n",
       "        vertical-align: middle;\n",
       "    }\n",
       "\n",
       "    .dataframe tbody tr th {\n",
       "        vertical-align: top;\n",
       "    }\n",
       "\n",
       "    .dataframe thead th {\n",
       "        text-align: right;\n",
       "    }\n",
       "</style>\n",
       "<table border=\"1\" class=\"dataframe\">\n",
       "  <thead>\n",
       "    <tr style=\"text-align: right;\">\n",
       "      <th></th>\n",
       "      <th>날짜</th>\n",
       "      <th>확진자수</th>\n",
       "      <th>누적확진자수</th>\n",
       "      <th>데이터기준일</th>\n",
       "    </tr>\n",
       "  </thead>\n",
       "  <tbody>\n",
       "    <tr>\n",
       "      <th>0</th>\n",
       "      <td>2020-03-09</td>\n",
       "      <td>1</td>\n",
       "      <td>1</td>\n",
       "      <td>2022-09-28</td>\n",
       "    </tr>\n",
       "    <tr>\n",
       "      <th>1</th>\n",
       "      <td>2020-03-10</td>\n",
       "      <td>0</td>\n",
       "      <td>1</td>\n",
       "      <td>2022-09-28</td>\n",
       "    </tr>\n",
       "    <tr>\n",
       "      <th>2</th>\n",
       "      <td>2020-03-11</td>\n",
       "      <td>0</td>\n",
       "      <td>1</td>\n",
       "      <td>2022-09-28</td>\n",
       "    </tr>\n",
       "    <tr>\n",
       "      <th>3</th>\n",
       "      <td>2020-03-12</td>\n",
       "      <td>1</td>\n",
       "      <td>2</td>\n",
       "      <td>2022-09-28</td>\n",
       "    </tr>\n",
       "    <tr>\n",
       "      <th>4</th>\n",
       "      <td>2020-03-13</td>\n",
       "      <td>0</td>\n",
       "      <td>2</td>\n",
       "      <td>2022-09-28</td>\n",
       "    </tr>\n",
       "  </tbody>\n",
       "</table>\n",
       "</div>"
      ],
      "text/plain": [
       "           날짜  확진자수  누적확진자수      데이터기준일\n",
       "0  2020-03-09     1       1  2022-09-28\n",
       "1  2020-03-10     0       1  2022-09-28\n",
       "2  2020-03-11     0       1  2022-09-28\n",
       "3  2020-03-12     1       2  2022-09-28\n",
       "4  2020-03-13     0       2  2022-09-28"
      ]
     },
     "execution_count": 8,
     "metadata": {},
     "output_type": "execute_result"
    }
   ],
   "source": [
    "#확진자수 .csv파일 불러오기\n",
    "covid_df = pd.read_csv(\"./인천광역시 남동구_일별 코로나19 확진자수 현황_20220928.csv\", encoding=\"euc-kr\")\n",
    "covid_df.head()"
   ]
  },
  {
   "cell_type": "code",
   "execution_count": 9,
   "id": "4f1951a9",
   "metadata": {},
   "outputs": [],
   "source": [
    "### 연습, covid_df의 통계, 히스토그램등 시각화 ###"
   ]
  },
  {
   "cell_type": "code",
   "execution_count": 10,
   "id": "77e12c6b-5e09-4597-b10f-051c83877732",
   "metadata": {},
   "outputs": [
    {
     "data": {
      "text/html": [
       "<div>\n",
       "<style scoped>\n",
       "    .dataframe tbody tr th:only-of-type {\n",
       "        vertical-align: middle;\n",
       "    }\n",
       "\n",
       "    .dataframe tbody tr th {\n",
       "        vertical-align: top;\n",
       "    }\n",
       "\n",
       "    .dataframe thead th {\n",
       "        text-align: right;\n",
       "    }\n",
       "</style>\n",
       "<table border=\"1\" class=\"dataframe\">\n",
       "  <thead>\n",
       "    <tr style=\"text-align: right;\">\n",
       "      <th></th>\n",
       "      <th>확진자수</th>\n",
       "    </tr>\n",
       "    <tr>\n",
       "      <th>년월일</th>\n",
       "      <th></th>\n",
       "    </tr>\n",
       "  </thead>\n",
       "  <tbody>\n",
       "    <tr>\n",
       "      <th>2020-03-09</th>\n",
       "      <td>1</td>\n",
       "    </tr>\n",
       "    <tr>\n",
       "      <th>2020-03-10</th>\n",
       "      <td>0</td>\n",
       "    </tr>\n",
       "    <tr>\n",
       "      <th>2020-03-11</th>\n",
       "      <td>0</td>\n",
       "    </tr>\n",
       "    <tr>\n",
       "      <th>2020-03-12</th>\n",
       "      <td>1</td>\n",
       "    </tr>\n",
       "    <tr>\n",
       "      <th>2020-03-13</th>\n",
       "      <td>0</td>\n",
       "    </tr>\n",
       "  </tbody>\n",
       "</table>\n",
       "</div>"
      ],
      "text/plain": [
       "            확진자수\n",
       "년월일             \n",
       "2020-03-09     1\n",
       "2020-03-10     0\n",
       "2020-03-11     0\n",
       "2020-03-12     1\n",
       "2020-03-13     0"
      ]
     },
     "execution_count": 10,
     "metadata": {},
     "output_type": "execute_result"
    }
   ],
   "source": [
    "#.불필요한 열 제거, \n",
    "#'날짜'열을 '년월일'로 바꾸고 인덱스로 설정하기\n",
    "covid_df = covid_df[[\"날짜\", \"확진자수\"]]\n",
    "\n",
    "covid_df = covid_df.rename(columns={\"날짜\": \"년월일\"})\n",
    "\n",
    "covid_df = covid_df.set_index(\"년월일\")\n",
    "\n",
    "covid_df.head()"
   ]
  },
  {
   "cell_type": "code",
   "execution_count": 11,
   "id": "ce33f0eb-5196-44ba-94b5-6832cb7b4244",
   "metadata": {},
   "outputs": [
    {
     "data": {
      "text/html": [
       "<div>\n",
       "<style scoped>\n",
       "    .dataframe tbody tr th:only-of-type {\n",
       "        vertical-align: middle;\n",
       "    }\n",
       "\n",
       "    .dataframe tbody tr th {\n",
       "        vertical-align: top;\n",
       "    }\n",
       "\n",
       "    .dataframe thead th {\n",
       "        text-align: right;\n",
       "    }\n",
       "</style>\n",
       "<table border=\"1\" class=\"dataframe\">\n",
       "  <thead>\n",
       "    <tr style=\"text-align: right;\">\n",
       "      <th></th>\n",
       "      <th>평균기온(°C)</th>\n",
       "      <th>일강수량(mm)</th>\n",
       "      <th>최대 순간 풍속(m/s)</th>\n",
       "      <th>최소 상대습도(%)</th>\n",
       "      <th>일 최심적설(cm)</th>\n",
       "      <th>확진자수</th>\n",
       "    </tr>\n",
       "    <tr>\n",
       "      <th>년월일</th>\n",
       "      <th></th>\n",
       "      <th></th>\n",
       "      <th></th>\n",
       "      <th></th>\n",
       "      <th></th>\n",
       "      <th></th>\n",
       "    </tr>\n",
       "  </thead>\n",
       "  <tbody>\n",
       "    <tr>\n",
       "      <th>2020-03-09</th>\n",
       "      <td>9.4</td>\n",
       "      <td>0.0</td>\n",
       "      <td>8.0</td>\n",
       "      <td>26</td>\n",
       "      <td>0.0</td>\n",
       "      <td>1</td>\n",
       "    </tr>\n",
       "    <tr>\n",
       "      <th>2020-03-10</th>\n",
       "      <td>6.3</td>\n",
       "      <td>6.1</td>\n",
       "      <td>14.5</td>\n",
       "      <td>52</td>\n",
       "      <td>0.0</td>\n",
       "      <td>0</td>\n",
       "    </tr>\n",
       "    <tr>\n",
       "      <th>2020-03-11</th>\n",
       "      <td>3.8</td>\n",
       "      <td>0.0</td>\n",
       "      <td>11.0</td>\n",
       "      <td>30</td>\n",
       "      <td>0.0</td>\n",
       "      <td>0</td>\n",
       "    </tr>\n",
       "    <tr>\n",
       "      <th>2020-03-12</th>\n",
       "      <td>6.7</td>\n",
       "      <td>0.0</td>\n",
       "      <td>9.5</td>\n",
       "      <td>28</td>\n",
       "      <td>0.0</td>\n",
       "      <td>1</td>\n",
       "    </tr>\n",
       "    <tr>\n",
       "      <th>2020-03-13</th>\n",
       "      <td>4.2</td>\n",
       "      <td>0.0</td>\n",
       "      <td>11.7</td>\n",
       "      <td>18</td>\n",
       "      <td>0.0</td>\n",
       "      <td>0</td>\n",
       "    </tr>\n",
       "  </tbody>\n",
       "</table>\n",
       "</div>"
      ],
      "text/plain": [
       "            평균기온(°C)  일강수량(mm)  최대 순간 풍속(m/s)  최소 상대습도(%)  일 최심적설(cm)  확진자수\n",
       "년월일                                                                        \n",
       "2020-03-09       9.4       0.0            8.0          26         0.0     1\n",
       "2020-03-10       6.3       6.1           14.5          52         0.0     0\n",
       "2020-03-11       3.8       0.0           11.0          30         0.0     0\n",
       "2020-03-12       6.7       0.0            9.5          28         0.0     1\n",
       "2020-03-13       4.2       0.0           11.7          18         0.0     0"
      ]
     },
     "execution_count": 11,
     "metadata": {},
     "output_type": "execute_result"
    }
   ],
   "source": [
    "#두 데이터 frame (weather dataframe, covid dataframe)합치기, 합쳐서 새로운 dataframe 만듬 \n",
    "data_df = weather_df.merge(covid_df, left_index=True, right_index=True)\n",
    "#NaN (Not-a-Number) 값 0으로 바꾸어주기\n",
    "data_df = data_df.fillna(0)\n",
    "# 두 데이터 프레임을 합친후에 상위 5개의 행 보여줌 \n",
    "data_df.head()"
   ]
  },
  {
   "cell_type": "code",
   "execution_count": 12,
   "id": "2657d529-347e-463a-b1fb-859cc161d25e",
   "metadata": {},
   "outputs": [],
   "source": [
    "#.csv 파일로 저장하기\n",
    "data_df.to_csv(\"weather_covid.csv\")"
   ]
  },
  {
   "cell_type": "markdown",
   "id": "7b76a798",
   "metadata": {},
   "source": [
    "# 시각화"
   ]
  },
  {
   "cell_type": "code",
   "execution_count": 13,
   "id": "634f2c5a",
   "metadata": {},
   "outputs": [],
   "source": [
    "# 온도 변화 시각화 \n",
    "import matplotlib\n",
    "matplotlib.rcParams['font.family'] = 'Malgun Gothic'\n",
    "matplotlib.rcParams['axes.unicode_minus'] = False\n",
    "# 최초 100일 온도\n",
    "df3 = weather_df.head(100)\n",
    "x3 = df3.head(100).index\n",
    "y3 = df3.head(100)[\"평균기온(°C)\"]"
   ]
  },
  {
   "cell_type": "code",
   "execution_count": 14,
   "id": "3fa26f23",
   "metadata": {},
   "outputs": [
    {
     "data": {
      "image/png": "[encoded data removed]",
      "text/plain": [
       "<Figure size 2000x500 with 1 Axes>"
      ]
     },
     "metadata": {},
     "output_type": "display_data"
    }
   ],
   "source": [
    "plt.figure(figsize=(20, 5))\n",
    "plt.scatter(x3, y3)\n",
    "plt.xticks(np.arange(0, len(x3), 7))\n",
    "plt.xticks(rotation=30)\n",
    "plt.title(\"인천 온도\", fontsize=20)\n",
    "plt.xlabel(\"년월일\", fontsize=14)\n",
    "plt.ylabel(\"온도\", fontsize=14)\n",
    "plt.show()"
   ]
  },
  {
   "cell_type": "code",
   "execution_count": 15,
   "id": "fa443f82",
   "metadata": {},
   "outputs": [],
   "source": [
    "import matplotlib\n",
    "matplotlib.rcParams['font.family'] = 'Malgun Gothic'\n",
    "matplotlib.rcParams['axes.unicode_minus'] = False\n",
    "# 최초 100일 코로나 확진자수 dataframe\n",
    "df1 = covid_df.head(100)\n",
    "\n",
    "x2 = df1.index\n",
    "y2 = df1.head(100)[\"확진자수\"]"
   ]
  },
  {
   "cell_type": "code",
   "execution_count": 16,
   "id": "82e55117",
   "metadata": {},
   "outputs": [
    {
     "data": {
      "image/png": "[encoded data removed]",
      "text/plain": [
       "<Figure size 2000x500 with 1 Axes>"
      ]
     },
     "metadata": {},
     "output_type": "display_data"
    }
   ],
   "source": [
    "plt.figure(figsize=(20, 5))\n",
    "plt.scatter(x2, y2)\n",
    "plt.xticks(np.arange(0, len(x2), 7))\n",
    "plt.xticks(rotation=30)\n",
    "plt.title(\"코로나19 일별 확진자수(인천)\", fontsize=20)\n",
    "plt.xlabel(\"년월일\", fontsize=14)\n",
    "plt.ylabel(\"확진자수\", fontsize=14)\n",
    "plt.show()"
   ]
  },
  {
   "cell_type": "code",
   "execution_count": 17,
   "id": "b68f79e9",
   "metadata": {},
   "outputs": [
    {
     "data": {
      "image/png": "[encoded data removed]",
      "text/plain": [
       "<Figure size 800x500 with 1 Axes>"
      ]
     },
     "metadata": {},
     "output_type": "display_data"
    }
   ],
   "source": [
    "plt.figure(figsize=(8, 5))\n",
    "plt.hist(df1.확진자수, bins=10)\n",
    "plt.xticks(np.arange(0, max(df1.확진자수), 500))\n",
    "plt.title(\"코로나19 일별 확진자수(인천)\", fontsize=20)\n",
    "plt.xlabel(\"계급(확진자수)\", fontsize=14)\n",
    "plt.ylabel(\"빈도수(일수)\", fontsize=14)\n",
    "plt.show()"
   ]
  },
  {
   "cell_type": "markdown",
   "id": "9207a652-f65d-49f9-bdb3-7e7a37934785",
   "metadata": {},
   "source": [
    "# 선형회귀 모델 만들기"
   ]
  },
  {
   "cell_type": "code",
   "execution_count": 18,
   "id": "14c361e6",
   "metadata": {},
   "outputs": [],
   "source": [
    "import pandas as pd\n",
    "import numpy as np\n",
    "import tensorflow as tf\n",
    "from sklearn.linear_model import LinearRegression"
   ]
  },
  {
   "cell_type": "code",
   "execution_count": 19,
   "id": "cb9d0da9-8efa-4f46-a390-9ded92b469b8",
   "metadata": {},
   "outputs": [],
   "source": [
    "#데이터 준비\n",
    "xy = np.array(data_df, dtype=np.float32)\n",
    "# 마지막 열 (확진자수)만 빼고 x_data 변수에 저장\n",
    "x_data = xy[:, :-1]\n",
    "# 마지막 열만 y_data에 저장 (예측하고 싶은 값 )\n",
    "y_data = xy[:, -1:]"
   ]
  },
  {
   "cell_type": "code",
   "execution_count": 20,
   "id": "a9a31f58",
   "metadata": {},
   "outputs": [
    {
     "name": "stdout",
     "output_type": "stream",
     "text": [
      "[[-0.25014007  0.00258608 -0.11112048  0.0448681  -0.12746151]]\n",
      "[4.430681]\n",
      "3.1758776\n"
     ]
    }
   ],
   "source": [
    "# linear regression fitting\n",
    "from sklearn.metrics import mean_squared_error\n",
    "reg = LinearRegression()\n",
    "reg.fit(x_data, y_data)\n",
    "\n",
    "# fitting 결과\n",
    "print(reg.coef_)\n",
    "print(reg.intercept_)\n",
    "\n",
    "# 어떤 특징이 가장 중요한가?\n",
    "# 첫번째 특징, 즉, 평균 온도가 가장 확진자수에 영향을 많이 미침\n",
    "# 단, 음의 상관관계 \n",
    "\n",
    "# 평균 제곱 오차 출력\n",
    "print(mean_squared_error(reg.predict(x_data), y_data, squared=False))"
   ]
  },
  {
   "cell_type": "markdown",
   "id": "b9b740d7-bd64-4c26-99c8-4bd4a1174387",
   "metadata": {},
   "source": [
    "## 직접 입력을 넣어서 예측해보기"
   ]
  },
  {
   "cell_type": "code",
   "execution_count": 21,
   "id": "0e3f47d1-cb59-40e7-8973-7ba45115fb27",
   "metadata": {},
   "outputs": [
    {
     "name": "stdout",
     "output_type": "stream",
     "text": [
      "\n",
      "확진자가 없을 것으로 예측됩니다.\n"
     ]
    }
   ],
   "source": [
    "temp = float(input(\"평균 기온: \"))\n",
    "rainfall = max(float(input(\"일강수량(mm): \")), 0)\n",
    "max_windspeed = max(float(input(\"최대 순간 풍속 (m/s): \")), 0)\n",
    "min_humidity = np.clip(float(input(\"최소 상대습도(%): \")), 0.0, 1.0)\n",
    "snowfall = max(float(input(\"일 최심적설(cm): \")), 0)\n",
    "print()\n",
    "\n",
    "#입력 만들기\n",
    "pred_x = [[temp, rainfall, max_windspeed, min_humidity, snowfall]]\n",
    "\n",
    "n_covid = reg.predict(pred_x)[0][0]\n",
    "\n",
    "if n_covid <= 0:\n",
    "    print(\"확진자가 없을 것으로 예측됩니다.\")\n",
    "else:\n",
    "    print(f\"확진자 수가 약 {np.ceil(n_covid)}명으로 예측됩니다\")"
   ]
  },
  {
   "cell_type": "markdown",
   "id": "8ed6f88d",
   "metadata": {},
   "source": [
    "## 인구수 예측 (연습)"
   ]
  },
  {
   "cell_type": "code",
   "execution_count": 22,
   "id": "15da1247",
   "metadata": {},
   "outputs": [
    {
     "data": {
      "text/plain": [
       "Text(0, 0.5, '출생아수')"
      ]
     },
     "execution_count": 22,
     "metadata": {},
     "output_type": "execute_result"
    },
    {
     "data": {
      "image/png": "[encoded data removed]",
      "text/plain": [
       "<Figure size 640x480 with 1 Axes>"
      ]
     },
     "metadata": {},
     "output_type": "display_data"
    }
   ],
   "source": [
    "import matplotlib.pyplot as plt\n",
    "# 2010부터 2019까지 1씩 증가하면서 10개의 data 생성\n",
    "X = np.linspace(2010, 2019, 10 ).reshape(-1, 1)\n",
    "y=[470171, 471265, 484550, 436455, 435435, 438420, 406243, 355771, 326822, 303054]\n",
    "\n",
    "# x축을 \"연도\", y축을 \"출생아수\"로 하는 산점도 그리기, fontsize=14\n",
    "\n",
    "\n",
    "\n",
    "#---------------------------#"
   ]
  },
  {
   "cell_type": "code",
   "execution_count": 23,
   "id": "9904cd91",
   "metadata": {},
   "outputs": [
    {
     "name": "stdout",
     "output_type": "stream",
     "text": [
      "[-19676.96969697]\n",
      "40052074.05454546\n"
     ]
    },
    {
     "data": {
      "image/png": "[encoded data removed]",
      "text/plain": [
       "<Figure size 640x480 with 1 Axes>"
      ]
     },
     "metadata": {},
     "output_type": "display_data"
    }
   ],
   "source": [
    "# LinearRegression 모델 선언하기\n",
    "\n",
    "#---------------------------#\n",
    "# 모델 학습(fit)\n",
    "\n",
    "#---------------------------#\n",
    "print(reg.coef_) \n",
    "print(reg.intercept_)\n",
    "# 산점도 그리기\n",
    "\n",
    "#---------------------------#\n",
    "# 예측, 즉, fitting한 결과 직선으로 그림 \n",
    "\n",
    "#---------------------------#\n",
    "plt.grid(True) "
   ]
  },
  {
   "cell_type": "code",
   "execution_count": 24,
   "id": "dcb3d0a4",
   "metadata": {},
   "outputs": [
    {
     "name": "stdout",
     "output_type": "stream",
     "text": [
      "304595.2666666657\n"
     ]
    }
   ],
   "source": [
    "test_1 = np.array([[2020]])\n",
    "# test_1에 대한 결과값을 예측하기\n",
    "predicted = \n",
    "#---------------------------#\n",
    "print(predicted)"
   ]
  },
  {
   "cell_type": "code",
   "execution_count": 25,
   "id": "a77fc0d9",
   "metadata": {},
   "outputs": [
    {
     "data": {
      "text/plain": [
       "20916.564939838252"
      ]
     },
     "execution_count": 25,
     "metadata": {},
     "output_type": "execute_result"
    }
   ],
   "source": [
    "# ftting 결과 RMSE 출력하기\n",
    "\n",
    "#---------------------------#"
   ]
  }
 ],
 "metadata": {
  "kernelspec": {
   "display_name": "tf-env",
   "language": "python",
   "name": "python3"
  },
  "language_info": {
   "codemirror_mode": {
    "name": "ipython",
    "version": 3
   },
   "file_extension": ".py",
   "mimetype": "text/x-python",
   "name": "python",
   "nbconvert_exporter": "python",
   "pygments_lexer": "ipython3",
   "version": "3.7.0 (default, Jun 28 2018, 08:04:48) [MSC v.1912 64 bit (AMD64)]"
  },
  "vscode": {
   "interpreter": {
    "hash": "404066ed3bd0a421f22634a67ff031b53dfe4b79c133c70094128cb8a6792860"
   }
  }
 },
 "nbformat": 4,
 "nbformat_minor": 5
}
