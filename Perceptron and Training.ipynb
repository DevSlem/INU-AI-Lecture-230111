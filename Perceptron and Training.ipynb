{
 "cells": [
  {
   "cell_type": "markdown",
   "id": "092dba27",
   "metadata": {},
   "source": [
    "# 퍼셉트론 ~ 신경망 학습까지의 실습"
   ]
  },
  {
   "cell_type": "code",
   "execution_count": 1,
   "id": "5eeedcd9",
   "metadata": {},
   "outputs": [],
   "source": [
    "try:\n",
    "    import piplite\n",
    "    await piplite.install(['ipywidgets'])\n",
    "except ImportError:\n",
    "    pass\n",
    "    \n",
    "from ipywidgets import interact, interactive, fixed, interact_manual\n",
    "import ipywidgets as widgets"
   ]
  },
  {
   "cell_type": "markdown",
   "id": "b87626ce",
   "metadata": {},
   "source": [
    "## OR 퍼셉트론"
   ]
  },
  {
   "cell_type": "code",
   "execution_count": 2,
   "id": "045c292d",
   "metadata": {},
   "outputs": [
    {
     "name": "stdout",
     "output_type": "stream",
     "text": [
      "OR(0,0): 0\n",
      "OR(0,1): 1\n",
      "OR(1,0): 1\n",
      "OR(1,1): 1\n"
     ]
    }
   ],
   "source": [
    "def OR(x1, x2):\n",
    "    x = np.array([x1, x2])\n",
    "    w = np.array([0.5,0.5])\n",
    "    b = -0.4\n",
    "    tmp = np.sum(w*x) + b\n",
    "    if tmp <= 0:\n",
    "        return 0\n",
    "    else :\n",
    "        return 1\n",
    "\n",
    "import numpy as np\n",
    "print(\"OR(0,0):\", OR(0,0))\n",
    "print(\"OR(0,1):\",OR(0,1))\n",
    "print(\"OR(1,0):\",OR(1,0))\n",
    "print(\"OR(1,1):\",OR(1,1))"
   ]
  },
  {
   "cell_type": "markdown",
   "id": "41bbee9b",
   "metadata": {},
   "source": [
    "# AND 퍼셉트론"
   ]
  },
  {
   "cell_type": "code",
   "execution_count": 3,
   "id": "e9a61105",
   "metadata": {},
   "outputs": [
    {
     "name": "stdout",
     "output_type": "stream",
     "text": [
      "AND(0,0): 0\n",
      "AND(0,1): 0\n",
      "AND(1,0): 0\n",
      "AND(1,1): 1\n"
     ]
    }
   ],
   "source": [
    "def AND(x1, x2):\n",
    "    x = np.array([x1, x2])\n",
    "    w = np.array([0.5,0.5])\n",
    "    b = -0.7\n",
    "    tmp = np.sum(w*x) + b\n",
    "    if tmp <= 0:\n",
    "        return 0\n",
    "    else :\n",
    "        return 1\n",
    "\n",
    "import numpy as np\n",
    "print(\"AND(0,0):\", AND(0,0))\n",
    "print(\"AND(0,1):\",AND(0,1))\n",
    "print(\"AND(1,0):\",AND(1,0))\n",
    "print(\"AND(1,1):\",AND(1,1))\n"
   ]
  },
  {
   "cell_type": "code",
   "execution_count": 4,
   "id": "e7f7e0d3",
   "metadata": {
    "scrolled": false
   },
   "outputs": [
    {
     "name": "stdout",
     "output_type": "stream",
     "text": [
      "단층 퍼셉트론 파라미터 조정\n",
      "질문: 단층 퍼셉트론 XOR이 가능한가?\n"
     ]
    },
    {
     "data": {
      "application/vnd.jupyter.widget-view+json": {
       "model_id": "03287a8b4f3f4438b0a45d903767bf13",
       "version_major": 2,
       "version_minor": 0
      },
      "text/plain": [
       "interactive(children=(FloatSlider(value=0.2, description='w1', max=1.0, min=-1.0, step=0.05), FloatSlider(valu…"
      ]
     },
     "execution_count": 4,
     "metadata": {},
     "output_type": "execute_result"
    }
   ],
   "source": [
    "%matplotlib inline\n",
    "from ipywidgets import interactive\n",
    "import matplotlib.pyplot as plt\n",
    "import numpy as np\n",
    "\n",
    "cnt = 0\n",
    "\n",
    "def f(w1, w2, b):\n",
    "    global cnt\n",
    "    #w1 x1 + w2 x2 + b > 0\n",
    "    #x2 = w1/w2 x0 + b/w2\n",
    "    plt.figure(figsize=[3, 3])\n",
    "    \n",
    "    x = np.linspace(-10, 10, num=1000)\n",
    "    if w1 == 0 and w2 == 0:\n",
    "      pass\n",
    "    elif w2 == 0:\n",
    "      plt.plot([-b/w1, -b/w1], [-100, 100], c=\"b\")\n",
    "    else:\n",
    "      m = w1/w2\n",
    "      plt.plot(x, -m * x -b/w2, c=\"b\")\n",
    "    plt.ylim(-1.5, 2.5)\n",
    "    plt.xlim(-1.5, 2.5)\n",
    "    plt.xticks([-1, 0, 1, 2])\n",
    "    plt.yticks([-1, 0, 1, 2])\n",
    "    \n",
    "    x1 = np.array([0, 0, 1, 1])\n",
    "    x2 = np.array([0, 1, 0, 1])\n",
    "    label = w1 * x1 + w2 * x2 + b > 0\n",
    "    plt.scatter(x1[label], x2[label], c=\"r\", marker=\"o\", label=\"True\")\n",
    "    plt.scatter(x1[~label], x2[~label], c=\"b\", marker=\"x\", label=\"Fales\")\n",
    "    plt.grid(\"on\")\n",
    "    plt.legend(loc=4)\n",
    "    plt.show()\n",
    "    print(\"x1 | x2 | y \")\n",
    "    for i in range(4):\n",
    "      print(\" %d |  %d | %d\" % (x1[i], x2[i], label[i]))\n",
    "    cnt += 1\n",
    "    if cnt > 200:\n",
    "      print(\"... 아마 불가능 하다는 것을 발견했을 것이다\")\n",
    "\n",
    "interactive_plot = interactive(f, w1=widgets.FloatSlider( value= 0.2,\n",
    "           min=-1.0, max=1.0, step=0.05, continuous_update=True),\n",
    "                               w2=widgets.FloatSlider( value = 0.2,\n",
    "           min=-1.0, max=1.0, step=0.05, continuous_update=True),\n",
    "                               b=widgets.FloatSlider( value = -0.1,\n",
    "           min=-1.5, max=1.5, step=0.05, continuous_update=True),)\n",
    "#output = interactive_plot.children[-1]\n",
    "#output.layout.height = '410px'\n",
    "\n",
    "print(\"단층 퍼셉트론 파라미터 조정\")\n",
    "print(\"질문: 단층 퍼셉트론 XOR이 가능한가?\")\n",
    "interactive_plot"
   ]
  },
  {
   "cell_type": "markdown",
   "id": "a48e8ff0",
   "metadata": {},
   "source": [
    "# 다층 퍼셉트론 실습 (XOR)"
   ]
  },
  {
   "cell_type": "code",
   "execution_count": 5,
   "id": "4bd872e4",
   "metadata": {},
   "outputs": [
    {
     "name": "stdout",
     "output_type": "stream",
     "text": [
      "XOR(0,0) =  0\n",
      "XOR(0,1) =  1\n",
      "XOR(1,0) =  1\n",
      "XOR(1,1) =  0\n"
     ]
    }
   ],
   "source": [
    "#XOR을 위한 다층 퍼셉트론\n",
    "import numpy as np\n",
    "def AND(x1, x2):\n",
    "    x = np.array([x1, x2])\n",
    "    w = np.array([0.5,0.5])\n",
    "    b = -0.7\n",
    "    tmp = np.sum(w*x) + b\n",
    "    if tmp <= 0:\n",
    "        return 0\n",
    "    else :\n",
    "        return 1\n",
    "\n",
    "def NAND(x1, x2):\n",
    "    x = np.array([x1, x2])\n",
    "    w = np.array([-0.5,-0.5])\n",
    "    b = 0.7\n",
    "    tmp = np.sum(w*x) + b\n",
    "    if tmp <= 0:\n",
    "        return 0\n",
    "    else :\n",
    "        return 1\n",
    "    \n",
    "def OR(x1, x2):\n",
    "    x = np.array([x1, x2])\n",
    "    w = np.array([0.5,0.5])\n",
    "    b = -0.4\n",
    "    tmp = np.sum(w*x) + b\n",
    "    if tmp <= 0:\n",
    "        return 0\n",
    "    else :\n",
    "        return 1\n",
    "\n",
    "def XOR(x1, x2):\n",
    "    s1 = NAND(x1, x2)\n",
    "    s2 = OR(x1, x2)\n",
    "    return AND(s1, s2)\n",
    "        \n",
    "\n",
    "print(\"XOR(0,0) = \", XOR(0,0))\n",
    "print(\"XOR(0,1) = \",XOR(0,1))\n",
    "print(\"XOR(1,0) = \",XOR(1,0))\n",
    "print(\"XOR(1,1) = \",XOR(1,1))\n"
   ]
  },
  {
   "cell_type": "code",
   "execution_count": 6,
   "id": "a1b03f48",
   "metadata": {},
   "outputs": [
    {
     "data": {
      "image/png": "[encoded data removed]",
      "text/plain": [
       "<Figure size 500x500 with 1 Axes>"
      ]
     },
     "metadata": {},
     "output_type": "display_data"
    }
   ],
   "source": [
    "# XOR 다층 퍼셉트론 그림 그려보기\n",
    "plt.figure(figsize=[5, 5])\n",
    "\n",
    "\n",
    "ngrid = 151\n",
    "xyrange = np.linspace(-1.5, 2.5, ngrid)\n",
    "\n",
    "\n",
    "xx, yy = np.meshgrid(xyrange, xyrange)\n",
    "\n",
    "\n",
    "heat_test_x = np.stack([xx, yy], axis=-1).reshape([-1, 2])\n",
    "#print(heat_test_x)\n",
    "\n",
    "lambda_XOR = lambda x: XOR(x[0], x[1])\n",
    "\n",
    "pred_heat = np.apply_along_axis(lambda_XOR, 1, heat_test_x)\n",
    "\n",
    "pred_heat = pred_heat.reshape([ngrid, ngrid])\n",
    "\n",
    "\n",
    "plt.pcolor(xyrange, xyrange, pred_heat, cmap=\"coolwarm\", alpha=0.5)\n",
    "plt.xlim(-1.5, 2.5)\n",
    "plt.ylim(-1.5, 2.5)\n",
    "\n",
    "plt.scatter([0, 0, 1, 1], [0, 1, 0, 1], c='k')\n",
    "plt.show()"
   ]
  }
 ],
 "metadata": {
  "kernelspec": {
   "display_name": "Python 3 (ipykernel)",
   "language": "python",
   "name": "python3"
  },
  "language_info": {
   "codemirror_mode": {
    "name": "ipython",
    "version": 3
   },
   "file_extension": ".py",
   "mimetype": "text/x-python",
   "name": "python",
   "nbconvert_exporter": "python",
   "pygments_lexer": "ipython3",
   "version": "3.10.6"
  }
 },
 "nbformat": 4,
 "nbformat_minor": 5
}
